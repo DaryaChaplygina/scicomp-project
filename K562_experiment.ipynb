{
 "cells": [
  {
   "cell_type": "code",
   "execution_count": 18,
   "metadata": {
    "scrolled": true
   },
   "outputs": [],
   "source": [
    "import pandas as pd\n",
    "import numpy as np\n",
    "from utils import *"
   ]
  },
  {
   "cell_type": "code",
   "execution_count": 2,
   "metadata": {},
   "outputs": [],
   "source": [
    "nonpredictors = ['enhancer_chrom', 'enhancer_start', 'enhancer_end', \n",
    "                 'promoter_chrom', 'promoter_start', 'promoter_end', \n",
    "                 'window_chrom', 'window_start', 'window_end', 'window_name', \n",
    "                 'active_promoters_in_window', 'interactions_in_window', \n",
    "                 'enhancer_distance_to_promoter', 'bin', 'label',\n",
    "                 'promoter_seq', 'enhancer_seq'] \n"
   ]
  },
  {
   "cell_type": "code",
   "execution_count": 3,
   "metadata": {},
   "outputs": [],
   "source": [
    "np.random.seed(0)"
   ]
  },
  {
   "cell_type": "code",
   "execution_count": 4,
   "metadata": {},
   "outputs": [
    {
     "data": {
      "text/html": [
       "<div>\n",
       "<style scoped>\n",
       "    .dataframe tbody tr th:only-of-type {\n",
       "        vertical-align: middle;\n",
       "    }\n",
       "\n",
       "    .dataframe tbody tr th {\n",
       "        vertical-align: top;\n",
       "    }\n",
       "\n",
       "    .dataframe thead th {\n",
       "        text-align: right;\n",
       "    }\n",
       "</style>\n",
       "<table border=\"1\" class=\"dataframe\">\n",
       "  <thead>\n",
       "    <tr style=\"text-align: right;\">\n",
       "      <th></th>\n",
       "      <th>bin</th>\n",
       "      <th>enhancer_chrom</th>\n",
       "      <th>enhancer_distance_to_promoter</th>\n",
       "      <th>enhancer_end</th>\n",
       "      <th>enhancer_name</th>\n",
       "      <th>enhancer_start</th>\n",
       "      <th>label</th>\n",
       "      <th>promoter_chrom</th>\n",
       "      <th>promoter_end</th>\n",
       "      <th>promoter_name</th>\n",
       "      <th>...</th>\n",
       "      <th>ZNF143 (window)</th>\n",
       "      <th>ZNF263 (enhancer)</th>\n",
       "      <th>ZNF263 (promoter)</th>\n",
       "      <th>ZNF263 (window)</th>\n",
       "      <th>ZNF274 (enhancer)</th>\n",
       "      <th>ZNF274 (promoter)</th>\n",
       "      <th>ZNF274 (window)</th>\n",
       "      <th>ZNF384 (enhancer)</th>\n",
       "      <th>ZNF384 (promoter)</th>\n",
       "      <th>ZNF384 (window)</th>\n",
       "    </tr>\n",
       "  </thead>\n",
       "  <tbody>\n",
       "    <tr>\n",
       "      <th>0</th>\n",
       "      <td>(111232.6, 211245.6]</td>\n",
       "      <td>chr1</td>\n",
       "      <td>157891</td>\n",
       "      <td>6455189</td>\n",
       "      <td>K562|chr1:6454864-6455189</td>\n",
       "      <td>6454864</td>\n",
       "      <td>1</td>\n",
       "      <td>chr1</td>\n",
       "      <td>6615021</td>\n",
       "      <td>K562|chr1:6613082-6615021</td>\n",
       "      <td>...</td>\n",
       "      <td>0.005326</td>\n",
       "      <td>0.0</td>\n",
       "      <td>0.0</td>\n",
       "      <td>0.000000</td>\n",
       "      <td>0.0</td>\n",
       "      <td>0.0</td>\n",
       "      <td>0.0</td>\n",
       "      <td>0.0</td>\n",
       "      <td>0.001652</td>\n",
       "      <td>0.001204</td>\n",
       "    </tr>\n",
       "    <tr>\n",
       "      <th>1</th>\n",
       "      <td>[25329, 111232.6]</td>\n",
       "      <td>chr1</td>\n",
       "      <td>66936</td>\n",
       "      <td>9935544</td>\n",
       "      <td>K562|chr1:9935400-9935544</td>\n",
       "      <td>9935400</td>\n",
       "      <td>1</td>\n",
       "      <td>chr1</td>\n",
       "      <td>10004387</td>\n",
       "      <td>K562|chr1:10002482-10004387</td>\n",
       "      <td>...</td>\n",
       "      <td>0.000000</td>\n",
       "      <td>0.0</td>\n",
       "      <td>0.0</td>\n",
       "      <td>0.000000</td>\n",
       "      <td>0.0</td>\n",
       "      <td>0.0</td>\n",
       "      <td>0.0</td>\n",
       "      <td>0.0</td>\n",
       "      <td>0.003796</td>\n",
       "      <td>0.000311</td>\n",
       "    </tr>\n",
       "    <tr>\n",
       "      <th>2</th>\n",
       "      <td>(111232.6, 211245.6]</td>\n",
       "      <td>chr1</td>\n",
       "      <td>157338</td>\n",
       "      <td>9935544</td>\n",
       "      <td>K562|chr1:9935400-9935544</td>\n",
       "      <td>9935400</td>\n",
       "      <td>1</td>\n",
       "      <td>chr1</td>\n",
       "      <td>10095822</td>\n",
       "      <td>K562|chr1:10092884-10095822</td>\n",
       "      <td>...</td>\n",
       "      <td>0.001381</td>\n",
       "      <td>0.0</td>\n",
       "      <td>0.0</td>\n",
       "      <td>0.000000</td>\n",
       "      <td>0.0</td>\n",
       "      <td>0.0</td>\n",
       "      <td>0.0</td>\n",
       "      <td>0.0</td>\n",
       "      <td>0.005604</td>\n",
       "      <td>0.000357</td>\n",
       "    </tr>\n",
       "    <tr>\n",
       "      <th>3</th>\n",
       "      <td>(211245.6, 323901.6]</td>\n",
       "      <td>chr1</td>\n",
       "      <td>277480</td>\n",
       "      <td>16400081</td>\n",
       "      <td>K562|chr1:16399567-16400081</td>\n",
       "      <td>16399567</td>\n",
       "      <td>1</td>\n",
       "      <td>chr1</td>\n",
       "      <td>16679703</td>\n",
       "      <td>K562|chr1:16677563-16679703</td>\n",
       "      <td>...</td>\n",
       "      <td>0.003453</td>\n",
       "      <td>0.0</td>\n",
       "      <td>0.0</td>\n",
       "      <td>0.000324</td>\n",
       "      <td>0.0</td>\n",
       "      <td>0.0</td>\n",
       "      <td>0.0</td>\n",
       "      <td>0.0</td>\n",
       "      <td>0.003847</td>\n",
       "      <td>0.001019</td>\n",
       "    </tr>\n",
       "    <tr>\n",
       "      <th>4</th>\n",
       "      <td>(211245.6, 323901.6]</td>\n",
       "      <td>chr1</td>\n",
       "      <td>276903</td>\n",
       "      <td>16400658</td>\n",
       "      <td>K562|chr1:16400449-16400658</td>\n",
       "      <td>16400449</td>\n",
       "      <td>1</td>\n",
       "      <td>chr1</td>\n",
       "      <td>16679703</td>\n",
       "      <td>K562|chr1:16677563-16679703</td>\n",
       "      <td>...</td>\n",
       "      <td>0.003460</td>\n",
       "      <td>0.0</td>\n",
       "      <td>0.0</td>\n",
       "      <td>0.000325</td>\n",
       "      <td>0.0</td>\n",
       "      <td>0.0</td>\n",
       "      <td>0.0</td>\n",
       "      <td>0.0</td>\n",
       "      <td>0.003847</td>\n",
       "      <td>0.001021</td>\n",
       "    </tr>\n",
       "  </tbody>\n",
       "</table>\n",
       "<p>5 rows × 425 columns</p>\n",
       "</div>"
      ],
      "text/plain": [
       "                    bin enhancer_chrom  enhancer_distance_to_promoter  \\\n",
       "0  (111232.6, 211245.6]           chr1                         157891   \n",
       "1     [25329, 111232.6]           chr1                          66936   \n",
       "2  (111232.6, 211245.6]           chr1                         157338   \n",
       "3  (211245.6, 323901.6]           chr1                         277480   \n",
       "4  (211245.6, 323901.6]           chr1                         276903   \n",
       "\n",
       "   enhancer_end                enhancer_name  enhancer_start  label  \\\n",
       "0       6455189    K562|chr1:6454864-6455189         6454864      1   \n",
       "1       9935544    K562|chr1:9935400-9935544         9935400      1   \n",
       "2       9935544    K562|chr1:9935400-9935544         9935400      1   \n",
       "3      16400081  K562|chr1:16399567-16400081        16399567      1   \n",
       "4      16400658  K562|chr1:16400449-16400658        16400449      1   \n",
       "\n",
       "  promoter_chrom  promoter_end                promoter_name  ...  \\\n",
       "0           chr1       6615021    K562|chr1:6613082-6615021  ...   \n",
       "1           chr1      10004387  K562|chr1:10002482-10004387  ...   \n",
       "2           chr1      10095822  K562|chr1:10092884-10095822  ...   \n",
       "3           chr1      16679703  K562|chr1:16677563-16679703  ...   \n",
       "4           chr1      16679703  K562|chr1:16677563-16679703  ...   \n",
       "\n",
       "   ZNF143 (window)  ZNF263 (enhancer)  ZNF263 (promoter) ZNF263 (window)  \\\n",
       "0         0.005326                0.0                0.0        0.000000   \n",
       "1         0.000000                0.0                0.0        0.000000   \n",
       "2         0.001381                0.0                0.0        0.000000   \n",
       "3         0.003453                0.0                0.0        0.000324   \n",
       "4         0.003460                0.0                0.0        0.000325   \n",
       "\n",
       "  ZNF274 (enhancer)  ZNF274 (promoter)  ZNF274 (window)  ZNF384 (enhancer)  \\\n",
       "0               0.0                0.0              0.0                0.0   \n",
       "1               0.0                0.0              0.0                0.0   \n",
       "2               0.0                0.0              0.0                0.0   \n",
       "3               0.0                0.0              0.0                0.0   \n",
       "4               0.0                0.0              0.0                0.0   \n",
       "\n",
       "   ZNF384 (promoter)  ZNF384 (window)  \n",
       "0           0.001652         0.001204  \n",
       "1           0.003796         0.000311  \n",
       "2           0.005604         0.000357  \n",
       "3           0.003847         0.001019  \n",
       "4           0.003847         0.001021  \n",
       "\n",
       "[5 rows x 425 columns]"
      ]
     },
     "execution_count": 4,
     "metadata": {},
     "output_type": "execute_result"
    }
   ],
   "source": [
    "data = pd.read_csv('datasets/training_k562.csv')\n",
    "data.head()"
   ]
  },
  {
   "cell_type": "code",
   "execution_count": 5,
   "metadata": {},
   "outputs": [],
   "source": [
    "data['enhancer_seq'] = data.apply(lambda x: fetch_seq(x['enhancer_start'],\n",
    "                                                      x['enhancer_end'],\n",
    "                                                      x['enhancer_chrom']),\n",
    "                                  axis=1)"
   ]
  },
  {
   "cell_type": "code",
   "execution_count": 6,
   "metadata": {},
   "outputs": [
    {
     "name": "stdout",
     "output_type": "stream",
     "text": [
      "mean      341.161945\n",
      "median    222.000000\n",
      "std       372.790339\n",
      "Name: enhancer_seq, dtype: float64\n"
     ]
    },
    {
     "data": {
      "image/png": "[encoded data removed]",
      "text/plain": [
       "<Figure size 432x288 with 1 Axes>"
      ]
     },
     "metadata": {
      "needs_background": "light"
     },
     "output_type": "display_data"
    }
   ],
   "source": [
    "data['enhancer_seq'].apply(len).hist(bins=20)\n",
    "print(data['enhancer_seq'].apply(len).agg(['mean', 'median', 'std']))"
   ]
  },
  {
   "cell_type": "code",
   "execution_count": 7,
   "metadata": {},
   "outputs": [],
   "source": [
    "data['promoter_seq'] = data.apply(lambda x: fetch_seq(x['promoter_start'],\n",
    "                                                      x['promoter_end'],\n",
    "                                                      x['promoter_chrom']),\n",
    "                                  axis=1)"
   ]
  },
  {
   "cell_type": "code",
   "execution_count": 8,
   "metadata": {},
   "outputs": [
    {
     "name": "stdout",
     "output_type": "stream",
     "text": [
      "mean      2037.522506\n",
      "median    1876.000000\n",
      "std       1052.968648\n",
      "Name: promoter_seq, dtype: float64\n"
     ]
    },
    {
     "data": {
      "image/png": "[encoded data removed]",
      "text/plain": [
       "<Figure size 432x288 with 1 Axes>"
      ]
     },
     "metadata": {
      "needs_background": "light"
     },
     "output_type": "display_data"
    }
   ],
   "source": [
    "data['promoter_seq'].apply(len).hist(bins=20)\n",
    "print(data['promoter_seq'].apply(len).agg(['mean', 'median', 'std']))"
   ]
  },
  {
   "cell_type": "code",
   "execution_count": 9,
   "metadata": {},
   "outputs": [
    {
     "data": {
      "text/plain": [
       "0.07691009475130796"
      ]
     },
     "execution_count": 9,
     "metadata": {},
     "output_type": "execute_result"
    }
   ],
   "source": [
    "data[(data.promoter_seq.apply(len) > 3500) |\n",
    "    (data.enhancer_seq.apply(len) > 3500)].shape[0] / data.shape[0]"
   ]
  },
  {
   "cell_type": "code",
   "execution_count": 10,
   "metadata": {},
   "outputs": [],
   "source": [
    "data['promoter_seq_words'] = data['promoter_seq'].apply(split_to_kmers)\n",
    "data['enhancer_seq_words'] = data['enhancer_seq'].apply(split_to_kmers)"
   ]
  },
  {
   "cell_type": "code",
   "execution_count": 11,
   "metadata": {},
   "outputs": [],
   "source": [
    "data = data.set_index(['enhancer_name', 'promoter_name'])\n",
    "train_valid, test = train_test_split(data, test_size=0.1, random_state=0, stratify=data['label'])\n",
    "train, valid = train_test_split(train_valid, test_size=0.2, random_state=0, stratify=train_valid['label'])"
   ]
  },
  {
   "cell_type": "code",
   "execution_count": 12,
   "metadata": {
    "scrolled": true
   },
   "outputs": [
    {
     "data": {
      "text/plain": [
       "<AxesSubplot:>"
      ]
     },
     "execution_count": 12,
     "metadata": {},
     "output_type": "execute_result"
    },
    {
     "data": {
      "image/png": "[encoded data removed]",
      "text/plain": [
       "<Figure size 432x288 with 1 Axes>"
      ]
     },
     "metadata": {
      "needs_background": "light"
     },
     "output_type": "display_data"
    }
   ],
   "source": [
    "data.label.hist()"
   ]
  },
  {
   "cell_type": "code",
   "execution_count": 13,
   "metadata": {},
   "outputs": [],
   "source": [
    "train_valid_upsampled = upsample(train_valid, 1)\n",
    "train_upsampled = upsample(train, 1)"
   ]
  },
  {
   "cell_type": "code",
   "execution_count": 14,
   "metadata": {},
   "outputs": [],
   "source": [
    "labels = {\n",
    "    'train': train['label'],\n",
    "    'train_upsampled': train_upsampled['label'],\n",
    "    'test': test['label'],\n",
    "    'valid': valid['label'],\n",
    "    'train_valid': train_valid['label'],\n",
    "    'train_valid_upsampled': train_valid_upsampled['label']\n",
    "}"
   ]
  },
  {
   "cell_type": "code",
   "execution_count": 15,
   "metadata": {},
   "outputs": [],
   "source": [
    "to_drop = nonpredictors + ['promoter_seq_words', 'enhancer_seq_words']\n",
    "tf_x = {\n",
    "    'train': train.drop(to_drop, axis=1),\n",
    "    'train_upsampled': train_upsampled.drop(to_drop, axis=1),\n",
    "    'test': test.drop(to_drop, axis=1),\n",
    "    'valid': valid.drop(to_drop, axis=1),\n",
    "    'train_valid': train_valid.drop(to_drop, axis=1),\n",
    "    'train_valid_upsampled': train_valid_upsampled.drop(to_drop, axis=1)\n",
    "}"
   ]
  },
  {
   "cell_type": "markdown",
   "metadata": {},
   "source": [
    "# TF model"
   ]
  },
  {
   "cell_type": "code",
   "execution_count": 20,
   "metadata": {},
   "outputs": [
    {
     "data": {
      "text/plain": [
       "0.8469945355191257"
      ]
     },
     "execution_count": 20,
     "metadata": {},
     "output_type": "execute_result"
    }
   ],
   "source": [
    "est_tf = GradientBoostingClassifier(n_estimators = 4000, learning_rate = 0.1,\n",
    "                                       max_depth = 5, max_features = 'log2', \n",
    "                                       random_state = 0)\n",
    "est_tf.fit(tf_x['train_valid_upsampled'], labels['train_valid_upsampled'])\n",
    "f1_score(labels['test'],\n",
    "        est_tf.predict(tf_x['test']))"
   ]
  },
  {
   "cell_type": "code",
   "execution_count": 21,
   "metadata": {
    "scrolled": true
   },
   "outputs": [
    {
     "data": {
      "text/plain": [
       "(0.9226190476190477, 0.7828282828282829)"
      ]
     },
     "execution_count": 21,
     "metadata": {},
     "output_type": "execute_result"
    }
   ],
   "source": [
    "precision_score(labels['test'], est_tf.predict(tf_x['test'])),\\\n",
    "recall_score(labels['test'], est_tf.predict(tf_x['test']))"
   ]
  },
  {
   "cell_type": "markdown",
   "metadata": {},
   "source": [
    "# GB sequences model"
   ]
  },
  {
   "cell_type": "code",
   "execution_count": 22,
   "metadata": {},
   "outputs": [],
   "source": [
    "promoters_dna2vec = dna2vec(s=30)\n",
    "promoters_dna2vec.fit(train_valid.promoter_seq_words.values)\n",
    "enhancers_dna2vec = dna2vec(s=30)\n",
    "enhancers_dna2vec.fit(train_valid.enhancer_seq_words.values)"
   ]
  },
  {
   "cell_type": "code",
   "execution_count": 23,
   "metadata": {},
   "outputs": [],
   "source": [
    "seq_avg_x = {}\n",
    "for name, df in zip(\n",
    "    ['train', 'valid', 'test', 'train_valid', 'train_upsampled', 'train_valid_upsampled'],\n",
    "    [train, valid, test, train_valid, train_upsampled, train_valid_upsampled] ):\n",
    "    promoters = transform_to_avg_vec(df.promoter_seq_words.values,\n",
    "                                     promoters_dna2vec,\n",
    "                                     'promoter')\n",
    "    enhancers = transform_to_avg_vec(df.enhancer_seq_words.values,\n",
    "                                     enhancers_dna2vec,\n",
    "                                     'enhancer')\n",
    "    seq_avg_x[name] = pd.concat((promoters, enhancers), axis=1)"
   ]
  },
  {
   "cell_type": "code",
   "execution_count": 24,
   "metadata": {},
   "outputs": [
    {
     "data": {
      "text/plain": [
       "GradientBoostingClassifier(ccp_alpha=0.0, criterion='friedman_mse', init=None,\n",
       "                           learning_rate=0.1, loss='deviance', max_depth=5,\n",
       "                           max_features='sqrt', max_leaf_nodes=None,\n",
       "                           min_impurity_decrease=0.0, min_impurity_split=None,\n",
       "                           min_samples_leaf=1, min_samples_split=2,\n",
       "                           min_weight_fraction_leaf=0.0, n_estimators=4000,\n",
       "                           n_iter_no_change=None, presort='deprecated',\n",
       "                           random_state=0, subsample=1.0, tol=0.0001,\n",
       "                           validation_fraction=0.1, verbose=0,\n",
       "                           warm_start=False)"
      ]
     },
     "execution_count": 24,
     "metadata": {},
     "output_type": "execute_result"
    }
   ],
   "source": [
    "estimator_seq_avg = GradientBoostingClassifier(learning_rate = 0.1, random_state = 0,\n",
    "                                                  n_estimators = 4000, max_depth = 5, \n",
    "                                                  max_features = 'sqrt')\n",
    "estimator_seq_avg.fit(seq_avg_x['train_valid_upsampled'], labels['train_valid_upsampled'])"
   ]
  },
  {
   "cell_type": "code",
   "execution_count": 25,
   "metadata": {},
   "outputs": [
    {
     "data": {
      "text/plain": [
       "0.43571428571428567"
      ]
     },
     "execution_count": 25,
     "metadata": {},
     "output_type": "execute_result"
    }
   ],
   "source": [
    "f1_score(labels['test'], \n",
    "         estimator_seq_avg.predict(seq_avg_x['test']))"
   ]
  },
  {
   "cell_type": "code",
   "execution_count": 26,
   "metadata": {},
   "outputs": [
    {
     "data": {
      "text/plain": [
       "(0.7439024390243902, 0.30808080808080807)"
      ]
     },
     "execution_count": 26,
     "metadata": {},
     "output_type": "execute_result"
    }
   ],
   "source": [
    "precision_score(labels['test'], \n",
    "         estimator_seq_avg.predict(seq_avg_x['test'])),\\\n",
    "recall_score(labels['test'], \n",
    "         estimator_seq_avg.predict(seq_avg_x['test']))"
   ]
  },
  {
   "cell_type": "markdown",
   "metadata": {},
   "source": [
    "# Combined TF&GB Sequences"
   ]
  },
  {
   "cell_type": "code",
   "execution_count": 27,
   "metadata": {},
   "outputs": [],
   "source": [
    "est_tf_trainonly = GradientBoostingClassifier(n_estimators = 4000, learning_rate = 0.1,\n",
    "                                       max_depth = 5, max_features = 'log2', \n",
    "                                       random_state = 0).fit(tf_x['train_upsampled'],\n",
    "                                                            labels['train_upsampled'])"
   ]
  },
  {
   "cell_type": "code",
   "execution_count": 28,
   "metadata": {},
   "outputs": [
    {
     "data": {
      "text/plain": [
       "GradientBoostingClassifier(ccp_alpha=0.0, criterion='friedman_mse', init=None,\n",
       "                           learning_rate=0.1, loss='deviance', max_depth=5,\n",
       "                           max_features='sqrt', max_leaf_nodes=None,\n",
       "                           min_impurity_decrease=0.0, min_impurity_split=None,\n",
       "                           min_samples_leaf=1, min_samples_split=2,\n",
       "                           min_weight_fraction_leaf=0.0, n_estimators=4000,\n",
       "                           n_iter_no_change=None, presort='deprecated',\n",
       "                           random_state=0, subsample=1.0, tol=0.0001,\n",
       "                           validation_fraction=0.1, verbose=0,\n",
       "                           warm_start=False)"
      ]
     },
     "execution_count": 28,
     "metadata": {},
     "output_type": "execute_result"
    }
   ],
   "source": [
    "est_seq_avg_trainonly = GradientBoostingClassifier(learning_rate = 0.1, random_state = 0,\n",
    "                                                  n_estimators = 4000, max_depth = 5, \n",
    "                                                  max_features = 'sqrt')\n",
    "est_seq_avg_trainonly.fit(seq_avg_x['train_upsampled'],\n",
    "                         labels['train_upsampled'])"
   ]
  },
  {
   "cell_type": "code",
   "execution_count": 29,
   "metadata": {},
   "outputs": [],
   "source": [
    "est_tf_valid_prob = est_tf_trainonly.predict_proba(tf_x['valid'])\n",
    "est_seq_avg_valid_prob = est_seq_avg_trainonly.predict_proba(seq_avg_x['valid'])"
   ]
  },
  {
   "cell_type": "code",
   "execution_count": 30,
   "metadata": {},
   "outputs": [
    {
     "data": {
      "text/plain": [
       "GradientBoostingClassifier(ccp_alpha=0.0, criterion='friedman_mse', init=None,\n",
       "                           learning_rate=0.05, loss='deviance', max_depth=2,\n",
       "                           max_features=None, max_leaf_nodes=None,\n",
       "                           min_impurity_decrease=0.0, min_impurity_split=None,\n",
       "                           min_samples_leaf=1, min_samples_split=2,\n",
       "                           min_weight_fraction_leaf=0.0, n_estimators=20,\n",
       "                           n_iter_no_change=None, presort='deprecated',\n",
       "                           random_state=0, subsample=1.0, tol=0.0001,\n",
       "                           validation_fraction=0.1, verbose=0,\n",
       "                           warm_start=False)"
      ]
     },
     "execution_count": 30,
     "metadata": {},
     "output_type": "execute_result"
    }
   ],
   "source": [
    "est_combined_seq_avg = GradientBoostingClassifier(learning_rate=0.05, random_state=0,\n",
    "                                                  n_estimators=20, max_depth=2)\n",
    "est_combined_seq_avg.fit(np.concatenate((est_tf_valid_prob, est_seq_avg_valid_prob), axis=1),\n",
    "                        labels['valid'])"
   ]
  },
  {
   "cell_type": "code",
   "execution_count": 31,
   "metadata": {},
   "outputs": [],
   "source": [
    "est_tf_test_prob = est_tf.predict_proba(tf_x['test'])\n",
    "est_seq_avg_test_prob = estimator_seq_avg.predict_proba(seq_avg_x['test'])"
   ]
  },
  {
   "cell_type": "code",
   "execution_count": 32,
   "metadata": {},
   "outputs": [],
   "source": [
    "combined_pred_seq = est_combined_seq_avg.predict(\n",
    "    np.concatenate((est_tf_test_prob, est_seq_avg_test_prob), axis=1)\n",
    ")"
   ]
  },
  {
   "cell_type": "code",
   "execution_count": 33,
   "metadata": {},
   "outputs": [
    {
     "data": {
      "text/plain": [
       "0.8387096774193549"
      ]
     },
     "execution_count": 33,
     "metadata": {},
     "output_type": "execute_result"
    }
   ],
   "source": [
    "f1_score(labels['test'], combined_pred_seq)"
   ]
  },
  {
   "cell_type": "code",
   "execution_count": 34,
   "metadata": {},
   "outputs": [
    {
     "data": {
      "text/plain": [
       "(0.896551724137931, 0.7878787878787878)"
      ]
     },
     "execution_count": 34,
     "metadata": {},
     "output_type": "execute_result"
    }
   ],
   "source": [
    "precision_score(labels['test'], combined_pred_seq),\\\n",
    "recall_score(labels['test'], combined_pred_seq)"
   ]
  },
  {
   "cell_type": "markdown",
   "metadata": {},
   "source": [
    "# NN"
   ]
  },
  {
   "cell_type": "code",
   "execution_count": 35,
   "metadata": {},
   "outputs": [],
   "source": [
    "train_valid_nn = filter_seq_length(train_valid, 3500)"
   ]
  },
  {
   "cell_type": "code",
   "execution_count": 36,
   "metadata": {},
   "outputs": [],
   "source": [
    "promoters_tokenizer = dna_tokenizer(sent_size=700)\n",
    "promoters_tokenizer.fit(train_valid_nn.promoter_seq_words.values)\n",
    "enhancers_tokenizer = dna_tokenizer(sent_size=700)\n",
    "enhancers_tokenizer.fit(train_valid_nn.enhancer_seq_words.values)"
   ]
  },
  {
   "cell_type": "code",
   "execution_count": 37,
   "metadata": {},
   "outputs": [],
   "source": [
    "promoters_embeddins = get_embeddings_matrix(promoters_dna2vec, \n",
    "                                            promoters_tokenizer)\n",
    "enhancers_embeddins = get_embeddings_matrix(enhancers_dna2vec, \n",
    "                                            enhancers_tokenizer)"
   ]
  },
  {
   "cell_type": "code",
   "execution_count": 38,
   "metadata": {},
   "outputs": [],
   "source": [
    "seq_nn_x = {}\n",
    "labels_nn = {}\n",
    "\n",
    "for name, df in zip(\n",
    "    ['train', 'valid', 'test', 'train_valid', 'train_upsampled', 'train_valid_upsampled'],\n",
    "    [train, valid, test, train_valid, train_upsampled, train_valid_upsampled] ):\n",
    "    df_filtered = filter_seq_length(df)\n",
    "    promoters = promoters_tokenizer.transform(df_filtered['promoter_seq_words'].values)\n",
    "    enhancers = enhancers_tokenizer.transform(df_filtered['enhancer_seq_words'].values)\n",
    "    seq_nn_x[name] = [promoters, enhancers]\n",
    "    labels_nn[name] = df_filtered['label']"
   ]
  },
  {
   "cell_type": "code",
   "execution_count": 68,
   "metadata": {},
   "outputs": [],
   "source": [
    "seq_nn_trainonly = get_model(promoters_embeddins, enhancers_embeddins,\n",
    "                            n_filters=6, sent_size=700)"
   ]
  },
  {
   "cell_type": "code",
   "execution_count": 69,
   "metadata": {},
   "outputs": [
    {
     "name": "stdout",
     "output_type": "stream",
     "text": [
      "Epoch 1/5\n",
      "28372/28372 [==============================] - 284s 10ms/sample - loss: 0.3014 - acc: 0.8833\n",
      "Epoch 2/5\n",
      "28372/28372 [==============================] - 280s 10ms/sample - loss: 0.1620 - acc: 0.9386\n",
      "Epoch 3/5\n",
      "28372/28372 [==============================] - 279s 10ms/sample - loss: 0.1283 - acc: 0.9525\n",
      "Epoch 4/5\n",
      "28372/28372 [==============================] - 284s 10ms/sample - loss: 0.1118 - acc: 0.9572\n",
      "Epoch 5/5\n",
      "28372/28372 [==============================] - 309s 11ms/sample - loss: 0.0914 - acc: 0.9669\n"
     ]
    },
    {
     "data": {
      "text/plain": [
       "<tensorflow.python.keras.callbacks.History at 0x7f284246e7f0>"
      ]
     },
     "execution_count": 69,
     "metadata": {},
     "output_type": "execute_result"
    }
   ],
   "source": [
    "seq_nn_trainonly.fit(x=seq_nn_x['train_upsampled'],\n",
    "            y=labels_nn['train_upsampled'],\n",
    "            epochs=5, batch_size=8)"
   ]
  },
  {
   "cell_type": "code",
   "execution_count": 64,
   "metadata": {},
   "outputs": [
    {
     "name": "stdout",
     "output_type": "stream",
     "text": [
      "Epoch 1/5\n",
      "35334/35334 [==============================] - 345s 10ms/sample - loss: 0.3016 - acc: 0.8863\n",
      "Epoch 2/5\n",
      "35334/35334 [==============================] - 346s 10ms/sample - loss: 0.1854 - acc: 0.9313\n",
      "Epoch 3/5\n",
      "35334/35334 [==============================] - 343s 10ms/sample - loss: 0.1635 - acc: 0.9385\n",
      "Epoch 4/5\n",
      "35334/35334 [==============================] - 343s 10ms/sample - loss: 0.1447 - acc: 0.9455\n",
      "Epoch 5/5\n",
      "35334/35334 [==============================] - 400s 11ms/sample - loss: 0.1303 - acc: 0.9520\n"
     ]
    },
    {
     "data": {
      "text/plain": [
       "<tensorflow.python.keras.callbacks.History at 0x7f2870325f28>"
      ]
     },
     "execution_count": 64,
     "metadata": {},
     "output_type": "execute_result"
    }
   ],
   "source": [
    "seq_nn = get_model(promoters_embeddins, enhancers_embeddins,\n",
    "                            n_filters=6, sent_size=700, kernel_size=100)\n",
    "seq_nn.fit(x=seq_nn_x['train_valid_upsampled'],\n",
    "            y=labels_nn['train_valid_upsampled'],\n",
    "            epochs=5, batch_size=8)"
   ]
  },
  {
   "cell_type": "code",
   "execution_count": 70,
   "metadata": {},
   "outputs": [],
   "source": [
    "test_preds_nn = seq_nn.predict(seq_nn_x['test'])"
   ]
  },
  {
   "cell_type": "code",
   "execution_count": 71,
   "metadata": {},
   "outputs": [
    {
     "data": {
      "text/plain": [
       "0.4564102564102564"
      ]
     },
     "execution_count": 71,
     "metadata": {},
     "output_type": "execute_result"
    }
   ],
   "source": [
    "f1_score(labels_nn['test'],\n",
    "        test_preds_nn > 0.5)"
   ]
  },
  {
   "cell_type": "code",
   "execution_count": 72,
   "metadata": {},
   "outputs": [
    {
     "data": {
      "text/plain": [
       "(0.3308550185873606, 0.7355371900826446)"
      ]
     },
     "execution_count": 72,
     "metadata": {},
     "output_type": "execute_result"
    }
   ],
   "source": [
    "precision_score(labels_nn['test'], test_preds_nn > 0.5),\\\n",
    "recall_score(labels_nn['test'], test_preds_nn > 0.5)"
   ]
  },
  {
   "cell_type": "markdown",
   "metadata": {},
   "source": [
    "# Combined NN&TF"
   ]
  },
  {
   "cell_type": "code",
   "execution_count": 73,
   "metadata": {},
   "outputs": [],
   "source": [
    "est_tf_valid_prob_nn = est_tf_trainonly.predict_proba(tf_x['valid'].loc[labels_nn['valid'].index])"
   ]
  },
  {
   "cell_type": "code",
   "execution_count": 74,
   "metadata": {},
   "outputs": [],
   "source": [
    "est_seq_nn_valid_prob = seq_nn_trainonly.predict(seq_nn_x['valid'])"
   ]
  },
  {
   "cell_type": "code",
   "execution_count": 75,
   "metadata": {},
   "outputs": [
    {
     "data": {
      "text/plain": [
       "GradientBoostingClassifier(ccp_alpha=0.0, criterion='friedman_mse', init=None,\n",
       "                           learning_rate=0.05, loss='deviance', max_depth=2,\n",
       "                           max_features=None, max_leaf_nodes=None,\n",
       "                           min_impurity_decrease=0.0, min_impurity_split=None,\n",
       "                           min_samples_leaf=1, min_samples_split=2,\n",
       "                           min_weight_fraction_leaf=0.0, n_estimators=20,\n",
       "                           n_iter_no_change=None, presort='deprecated',\n",
       "                           random_state=0, subsample=1.0, tol=0.0001,\n",
       "                           validation_fraction=0.1, verbose=0,\n",
       "                           warm_start=False)"
      ]
     },
     "execution_count": 75,
     "metadata": {},
     "output_type": "execute_result"
    }
   ],
   "source": [
    "est_combined_seq_nn = GradientBoostingClassifier(learning_rate=0.05, random_state=0,\n",
    "                                                  n_estimators=20, max_depth=2)\n",
    "est_combined_seq_nn.fit(np.concatenate((est_tf_valid_prob_nn, est_seq_nn_valid_prob), axis=1),\n",
    "                        labels_nn['valid'])"
   ]
  },
  {
   "cell_type": "code",
   "execution_count": 76,
   "metadata": {},
   "outputs": [],
   "source": [
    "est_tf_test_prob_nn = est_tf.predict_proba(tf_x['test'].loc[labels_nn['test'].index])"
   ]
  },
  {
   "cell_type": "code",
   "execution_count": 77,
   "metadata": {},
   "outputs": [],
   "source": [
    "preds_combined_nn = est_combined_seq_nn.predict(\n",
    "    np.concatenate((est_tf_test_prob_nn, test_preds_nn), axis=1)\n",
    ")"
   ]
  },
  {
   "cell_type": "code",
   "execution_count": 78,
   "metadata": {},
   "outputs": [
    {
     "data": {
      "text/plain": [
       "0.8181818181818182"
      ]
     },
     "execution_count": 78,
     "metadata": {},
     "output_type": "execute_result"
    }
   ],
   "source": [
    "f1_score(labels_nn['test'], preds_combined_nn)"
   ]
  },
  {
   "cell_type": "code",
   "execution_count": 79,
   "metadata": {},
   "outputs": [
    {
     "data": {
      "text/plain": [
       "(0.9090909090909091, 0.743801652892562)"
      ]
     },
     "execution_count": 79,
     "metadata": {},
     "output_type": "execute_result"
    }
   ],
   "source": [
    "precision_score(labels_nn['test'], preds_combined_nn),\\\n",
    "recall_score(labels_nn['test'], preds_combined_nn)"
   ]
  }
 ],
 "metadata": {
  "kernelspec": {
   "display_name": "Python 3",
   "language": "python",
   "name": "python3"
  },
  "language_info": {
   "codemirror_mode": {
    "name": "ipython",
    "version": 3
   },
   "file_extension": ".py",
   "mimetype": "text/x-python",
   "name": "python",
   "nbconvert_exporter": "python",
   "pygments_lexer": "ipython3",
   "version": "3.6.9"
  }
 },
 "nbformat": 4,
 "nbformat_minor": 4
}
