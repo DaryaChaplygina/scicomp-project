{
 "cells": [
  {
   "cell_type": "code",
   "execution_count": 1,
   "metadata": {
    "scrolled": true
   },
   "outputs": [
    {
     "name": "stderr",
     "output_type": "stream",
     "text": [
      "/home/dario/.local/lib/python3.6/site-packages/tensorflow/python/framework/dtypes.py:516: FutureWarning: Passing (type, 1) or '1type' as a synonym of type is deprecated; in a future version of numpy, it will be understood as (type, (1,)) / '(1,)type'.\n",
      "  _np_qint8 = np.dtype([(\"qint8\", np.int8, 1)])\n",
      "/home/dario/.local/lib/python3.6/site-packages/tensorflow/python/framework/dtypes.py:517: FutureWarning: Passing (type, 1) or '1type' as a synonym of type is deprecated; in a future version of numpy, it will be understood as (type, (1,)) / '(1,)type'.\n",
      "  _np_quint8 = np.dtype([(\"quint8\", np.uint8, 1)])\n",
      "/home/dario/.local/lib/python3.6/site-packages/tensorflow/python/framework/dtypes.py:518: FutureWarning: Passing (type, 1) or '1type' as a synonym of type is deprecated; in a future version of numpy, it will be understood as (type, (1,)) / '(1,)type'.\n",
      "  _np_qint16 = np.dtype([(\"qint16\", np.int16, 1)])\n",
      "/home/dario/.local/lib/python3.6/site-packages/tensorflow/python/framework/dtypes.py:519: FutureWarning: Passing (type, 1) or '1type' as a synonym of type is deprecated; in a future version of numpy, it will be understood as (type, (1,)) / '(1,)type'.\n",
      "  _np_quint16 = np.dtype([(\"quint16\", np.uint16, 1)])\n",
      "/home/dario/.local/lib/python3.6/site-packages/tensorflow/python/framework/dtypes.py:520: FutureWarning: Passing (type, 1) or '1type' as a synonym of type is deprecated; in a future version of numpy, it will be understood as (type, (1,)) / '(1,)type'.\n",
      "  _np_qint32 = np.dtype([(\"qint32\", np.int32, 1)])\n",
      "/home/dario/.local/lib/python3.6/site-packages/tensorflow/python/framework/dtypes.py:525: FutureWarning: Passing (type, 1) or '1type' as a synonym of type is deprecated; in a future version of numpy, it will be understood as (type, (1,)) / '(1,)type'.\n",
      "  np_resource = np.dtype([(\"resource\", np.ubyte, 1)])\n",
      "/home/dario/.local/lib/python3.6/site-packages/tensorboard/compat/tensorflow_stub/dtypes.py:541: FutureWarning: Passing (type, 1) or '1type' as a synonym of type is deprecated; in a future version of numpy, it will be understood as (type, (1,)) / '(1,)type'.\n",
      "  _np_qint8 = np.dtype([(\"qint8\", np.int8, 1)])\n",
      "/home/dario/.local/lib/python3.6/site-packages/tensorboard/compat/tensorflow_stub/dtypes.py:542: FutureWarning: Passing (type, 1) or '1type' as a synonym of type is deprecated; in a future version of numpy, it will be understood as (type, (1,)) / '(1,)type'.\n",
      "  _np_quint8 = np.dtype([(\"quint8\", np.uint8, 1)])\n",
      "/home/dario/.local/lib/python3.6/site-packages/tensorboard/compat/tensorflow_stub/dtypes.py:543: FutureWarning: Passing (type, 1) or '1type' as a synonym of type is deprecated; in a future version of numpy, it will be understood as (type, (1,)) / '(1,)type'.\n",
      "  _np_qint16 = np.dtype([(\"qint16\", np.int16, 1)])\n",
      "/home/dario/.local/lib/python3.6/site-packages/tensorboard/compat/tensorflow_stub/dtypes.py:544: FutureWarning: Passing (type, 1) or '1type' as a synonym of type is deprecated; in a future version of numpy, it will be understood as (type, (1,)) / '(1,)type'.\n",
      "  _np_quint16 = np.dtype([(\"quint16\", np.uint16, 1)])\n",
      "/home/dario/.local/lib/python3.6/site-packages/tensorboard/compat/tensorflow_stub/dtypes.py:545: FutureWarning: Passing (type, 1) or '1type' as a synonym of type is deprecated; in a future version of numpy, it will be understood as (type, (1,)) / '(1,)type'.\n",
      "  _np_qint32 = np.dtype([(\"qint32\", np.int32, 1)])\n",
      "/home/dario/.local/lib/python3.6/site-packages/tensorboard/compat/tensorflow_stub/dtypes.py:550: FutureWarning: Passing (type, 1) or '1type' as a synonym of type is deprecated; in a future version of numpy, it will be understood as (type, (1,)) / '(1,)type'.\n",
      "  np_resource = np.dtype([(\"resource\", np.ubyte, 1)])\n"
     ]
    }
   ],
   "source": [
    "import pandas as pd\n",
    "import numpy as np\n",
    "from utils import *"
   ]
  },
  {
   "cell_type": "code",
   "execution_count": 2,
   "metadata": {},
   "outputs": [],
   "source": [
    "nonpredictors = ['enhancer_chrom', 'enhancer_start', 'enhancer_end', \n",
    "                 'promoter_chrom', 'promoter_start', 'promoter_end', \n",
    "                 'window_chrom', 'window_start', 'window_end', 'window_name', \n",
    "                 'active_promoters_in_window', 'interactions_in_window', \n",
    "                 'enhancer_distance_to_promoter', 'bin', 'label',\n",
    "                 'promoter_seq', 'enhancer_seq'] \n"
   ]
  },
  {
   "cell_type": "code",
   "execution_count": 3,
   "metadata": {},
   "outputs": [],
   "source": [
    "np.random.seed(0)"
   ]
  },
  {
   "cell_type": "code",
   "execution_count": 4,
   "metadata": {},
   "outputs": [
    {
     "data": {
      "text/html": [
       "<div>\n",
       "<style scoped>\n",
       "    .dataframe tbody tr th:only-of-type {\n",
       "        vertical-align: middle;\n",
       "    }\n",
       "\n",
       "    .dataframe tbody tr th {\n",
       "        vertical-align: top;\n",
       "    }\n",
       "\n",
       "    .dataframe thead th {\n",
       "        text-align: right;\n",
       "    }\n",
       "</style>\n",
       "<table border=\"1\" class=\"dataframe\">\n",
       "  <thead>\n",
       "    <tr style=\"text-align: right;\">\n",
       "      <th></th>\n",
       "      <th>bin</th>\n",
       "      <th>enhancer_chrom</th>\n",
       "      <th>enhancer_distance_to_promoter</th>\n",
       "      <th>enhancer_end</th>\n",
       "      <th>enhancer_name</th>\n",
       "      <th>enhancer_start</th>\n",
       "      <th>label</th>\n",
       "      <th>promoter_chrom</th>\n",
       "      <th>promoter_end</th>\n",
       "      <th>promoter_name</th>\n",
       "      <th>...</th>\n",
       "      <th>H3K79me2 (window)</th>\n",
       "      <th>H3K9ac (window)</th>\n",
       "      <th>H3K9me1 (window)</th>\n",
       "      <th>H3K9me3 (window)</th>\n",
       "      <th>H4K20me1 (window)</th>\n",
       "      <th>JUN (window)</th>\n",
       "      <th>MAX (window)</th>\n",
       "      <th>MYC (window)</th>\n",
       "      <th>POLR2A (window)</th>\n",
       "      <th>CAGE (window)</th>\n",
       "    </tr>\n",
       "  </thead>\n",
       "  <tbody>\n",
       "    <tr>\n",
       "      <th>0</th>\n",
       "      <td>[33835, 131310.8]</td>\n",
       "      <td>chr1</td>\n",
       "      <td>119012</td>\n",
       "      <td>3421842</td>\n",
       "      <td>HUVEC|chr1:3420459-3421842</td>\n",
       "      <td>3420459</td>\n",
       "      <td>1</td>\n",
       "      <td>chr1</td>\n",
       "      <td>3541719</td>\n",
       "      <td>HUVEC|chr1:3540856-3541719</td>\n",
       "      <td>...</td>\n",
       "      <td>0.000027</td>\n",
       "      <td>0.000669</td>\n",
       "      <td>0.000027</td>\n",
       "      <td>0.000000</td>\n",
       "      <td>0.000000</td>\n",
       "      <td>0.000630</td>\n",
       "      <td>0.000931</td>\n",
       "      <td>0.000000</td>\n",
       "      <td>0.000000</td>\n",
       "      <td>0.001136</td>\n",
       "    </tr>\n",
       "    <tr>\n",
       "      <th>1</th>\n",
       "      <td>(305587.4, 495816.4]</td>\n",
       "      <td>chr1</td>\n",
       "      <td>482121</td>\n",
       "      <td>12193661</td>\n",
       "      <td>HUVEC|chr1:12193000-12193661</td>\n",
       "      <td>12193000</td>\n",
       "      <td>1</td>\n",
       "      <td>chr1</td>\n",
       "      <td>12680000</td>\n",
       "      <td>HUVEC|chr1:12675784-12680000</td>\n",
       "      <td>...</td>\n",
       "      <td>0.000341</td>\n",
       "      <td>0.000594</td>\n",
       "      <td>0.000007</td>\n",
       "      <td>0.000015</td>\n",
       "      <td>0.000015</td>\n",
       "      <td>0.001653</td>\n",
       "      <td>0.000306</td>\n",
       "      <td>0.000111</td>\n",
       "      <td>0.000227</td>\n",
       "      <td>0.001724</td>\n",
       "    </tr>\n",
       "    <tr>\n",
       "      <th>2</th>\n",
       "      <td>(131310.8, 218794.8]</td>\n",
       "      <td>chr1</td>\n",
       "      <td>174270</td>\n",
       "      <td>16127559</td>\n",
       "      <td>HUVEC|chr1:16125278-16127559</td>\n",
       "      <td>16125278</td>\n",
       "      <td>1</td>\n",
       "      <td>chr1</td>\n",
       "      <td>16302773</td>\n",
       "      <td>HUVEC|chr1:16301831-16302773</td>\n",
       "      <td>...</td>\n",
       "      <td>0.003975</td>\n",
       "      <td>0.001021</td>\n",
       "      <td>0.000070</td>\n",
       "      <td>0.000000</td>\n",
       "      <td>0.000321</td>\n",
       "      <td>0.001471</td>\n",
       "      <td>0.000173</td>\n",
       "      <td>0.000114</td>\n",
       "      <td>0.001276</td>\n",
       "      <td>0.003684</td>\n",
       "    </tr>\n",
       "    <tr>\n",
       "      <th>3</th>\n",
       "      <td>(218794.8, 305587.4]</td>\n",
       "      <td>chr1</td>\n",
       "      <td>277180</td>\n",
       "      <td>16400647</td>\n",
       "      <td>HUVEC|chr1:16399453-16400647</td>\n",
       "      <td>16399453</td>\n",
       "      <td>1</td>\n",
       "      <td>chr1</td>\n",
       "      <td>16679559</td>\n",
       "      <td>HUVEC|chr1:16677829-16679559</td>\n",
       "      <td>...</td>\n",
       "      <td>0.001545</td>\n",
       "      <td>0.000837</td>\n",
       "      <td>0.000055</td>\n",
       "      <td>0.000011</td>\n",
       "      <td>0.000172</td>\n",
       "      <td>0.001725</td>\n",
       "      <td>0.000368</td>\n",
       "      <td>0.000294</td>\n",
       "      <td>0.000392</td>\n",
       "      <td>0.002151</td>\n",
       "    </tr>\n",
       "    <tr>\n",
       "      <th>4</th>\n",
       "      <td>(218794.8, 305587.4]</td>\n",
       "      <td>chr1</td>\n",
       "      <td>274977</td>\n",
       "      <td>16402850</td>\n",
       "      <td>HUVEC|chr1:16402337-16402850</td>\n",
       "      <td>16402337</td>\n",
       "      <td>1</td>\n",
       "      <td>chr1</td>\n",
       "      <td>16679559</td>\n",
       "      <td>HUVEC|chr1:16677829-16679559</td>\n",
       "      <td>...</td>\n",
       "      <td>0.001558</td>\n",
       "      <td>0.000843</td>\n",
       "      <td>0.000056</td>\n",
       "      <td>0.000012</td>\n",
       "      <td>0.000173</td>\n",
       "      <td>0.001646</td>\n",
       "      <td>0.000371</td>\n",
       "      <td>0.000297</td>\n",
       "      <td>0.000395</td>\n",
       "      <td>0.002169</td>\n",
       "    </tr>\n",
       "  </tbody>\n",
       "</table>\n",
       "<p>5 rows × 86 columns</p>\n",
       "</div>"
      ],
      "text/plain": [
       "                    bin enhancer_chrom  enhancer_distance_to_promoter  \\\n",
       "0     [33835, 131310.8]           chr1                         119012   \n",
       "1  (305587.4, 495816.4]           chr1                         482121   \n",
       "2  (131310.8, 218794.8]           chr1                         174270   \n",
       "3  (218794.8, 305587.4]           chr1                         277180   \n",
       "4  (218794.8, 305587.4]           chr1                         274977   \n",
       "\n",
       "   enhancer_end                 enhancer_name  enhancer_start  label  \\\n",
       "0       3421842    HUVEC|chr1:3420459-3421842         3420459      1   \n",
       "1      12193661  HUVEC|chr1:12193000-12193661        12193000      1   \n",
       "2      16127559  HUVEC|chr1:16125278-16127559        16125278      1   \n",
       "3      16400647  HUVEC|chr1:16399453-16400647        16399453      1   \n",
       "4      16402850  HUVEC|chr1:16402337-16402850        16402337      1   \n",
       "\n",
       "  promoter_chrom  promoter_end                 promoter_name  ...  \\\n",
       "0           chr1       3541719    HUVEC|chr1:3540856-3541719  ...   \n",
       "1           chr1      12680000  HUVEC|chr1:12675784-12680000  ...   \n",
       "2           chr1      16302773  HUVEC|chr1:16301831-16302773  ...   \n",
       "3           chr1      16679559  HUVEC|chr1:16677829-16679559  ...   \n",
       "4           chr1      16679559  HUVEC|chr1:16677829-16679559  ...   \n",
       "\n",
       "   H3K79me2 (window)  H3K9ac (window)  H3K9me1 (window) H3K9me3 (window)  \\\n",
       "0           0.000027         0.000669          0.000027         0.000000   \n",
       "1           0.000341         0.000594          0.000007         0.000015   \n",
       "2           0.003975         0.001021          0.000070         0.000000   \n",
       "3           0.001545         0.000837          0.000055         0.000011   \n",
       "4           0.001558         0.000843          0.000056         0.000012   \n",
       "\n",
       "  H4K20me1 (window)  JUN (window)  MAX (window)  MYC (window)  \\\n",
       "0          0.000000      0.000630      0.000931      0.000000   \n",
       "1          0.000015      0.001653      0.000306      0.000111   \n",
       "2          0.000321      0.001471      0.000173      0.000114   \n",
       "3          0.000172      0.001725      0.000368      0.000294   \n",
       "4          0.000173      0.001646      0.000371      0.000297   \n",
       "\n",
       "   POLR2A (window)  CAGE (window)  \n",
       "0         0.000000       0.001136  \n",
       "1         0.000227       0.001724  \n",
       "2         0.001276       0.003684  \n",
       "3         0.000392       0.002151  \n",
       "4         0.000395       0.002169  \n",
       "\n",
       "[5 rows x 86 columns]"
      ]
     },
     "execution_count": 4,
     "metadata": {},
     "output_type": "execute_result"
    }
   ],
   "source": [
    "data = pd.read_csv('datasets/training_huvec.csv')\n",
    "data.head()"
   ]
  },
  {
   "cell_type": "code",
   "execution_count": 5,
   "metadata": {},
   "outputs": [],
   "source": [
    "data['enhancer_seq'] = data.apply(lambda x: fetch_seq(x['enhancer_start'],\n",
    "                                                      x['enhancer_end'],\n",
    "                                                      x['enhancer_chrom']),\n",
    "                                  axis=1)"
   ]
  },
  {
   "cell_type": "code",
   "execution_count": 6,
   "metadata": {},
   "outputs": [
    {
     "name": "stdout",
     "output_type": "stream",
     "text": [
      "mean      690.581537\n",
      "median    402.000000\n",
      "std       791.613518\n",
      "Name: enhancer_seq, dtype: float64\n"
     ]
    },
    {
     "data": {
      "image/png": "[encoded data removed]",
      "text/plain": [
       "<Figure size 432x288 with 1 Axes>"
      ]
     },
     "metadata": {
      "needs_background": "light"
     },
     "output_type": "display_data"
    }
   ],
   "source": [
    "data['enhancer_seq'].apply(len).hist(bins=20)\n",
    "print(data['enhancer_seq'].apply(len).agg(['mean', 'median', 'std']))"
   ]
  },
  {
   "cell_type": "code",
   "execution_count": 7,
   "metadata": {},
   "outputs": [],
   "source": [
    "data['promoter_seq'] = data.apply(lambda x: fetch_seq(x['promoter_start'],\n",
    "                                                      x['promoter_end'],\n",
    "                                                      x['promoter_chrom']),\n",
    "                                  axis=1)"
   ]
  },
  {
   "cell_type": "code",
   "execution_count": 8,
   "metadata": {},
   "outputs": [
    {
     "name": "stdout",
     "output_type": "stream",
     "text": [
      "mean      1483.891900\n",
      "median    1314.000000\n",
      "std        933.313129\n",
      "Name: promoter_seq, dtype: float64\n"
     ]
    },
    {
     "data": {
      "image/png": "[encoded data removed]",
      "text/plain": [
       "<Figure size 432x288 with 1 Axes>"
      ]
     },
     "metadata": {
      "needs_background": "light"
     },
     "output_type": "display_data"
    }
   ],
   "source": [
    "data['promoter_seq'].apply(len).hist(bins=20)\n",
    "print(data['promoter_seq'].apply(len).agg(['mean', 'median', 'std']))"
   ]
  },
  {
   "cell_type": "code",
   "execution_count": 9,
   "metadata": {},
   "outputs": [
    {
     "data": {
      "text/plain": [
       "0.07602430773086079"
      ]
     },
     "execution_count": 9,
     "metadata": {},
     "output_type": "execute_result"
    }
   ],
   "source": [
    "data[(data.promoter_seq.apply(len) > 3000) |\n",
    "    (data.enhancer_seq.apply(len) > 3000)].shape[0] / data.shape[0]"
   ]
  },
  {
   "cell_type": "code",
   "execution_count": 10,
   "metadata": {},
   "outputs": [],
   "source": [
    "data['promoter_seq_words'] = data['promoter_seq'].apply(split_to_kmers)\n",
    "data['enhancer_seq_words'] = data['enhancer_seq'].apply(split_to_kmers)"
   ]
  },
  {
   "cell_type": "code",
   "execution_count": 11,
   "metadata": {},
   "outputs": [],
   "source": [
    "data = data.set_index(['enhancer_name', 'promoter_name'])\n",
    "train_valid, test = train_test_split(data, test_size=0.1, random_state=0, stratify=data['label'])\n",
    "train, valid = train_test_split(train_valid, test_size=0.2, random_state=0, stratify=train_valid['label'])"
   ]
  },
  {
   "cell_type": "code",
   "execution_count": 12,
   "metadata": {
    "scrolled": true
   },
   "outputs": [
    {
     "data": {
      "text/plain": [
       "<AxesSubplot:>"
      ]
     },
     "execution_count": 12,
     "metadata": {},
     "output_type": "execute_result"
    },
    {
     "data": {
      "image/png": "[encoded data removed]",
      "text/plain": [
       "<Figure size 432x288 with 1 Axes>"
      ]
     },
     "metadata": {
      "needs_background": "light"
     },
     "output_type": "display_data"
    }
   ],
   "source": [
    "data.label.hist()"
   ]
  },
  {
   "cell_type": "code",
   "execution_count": 13,
   "metadata": {},
   "outputs": [],
   "source": [
    "train_valid_upsampled = upsample(train_valid, 1)\n",
    "train_upsampled = upsample(train, 1)"
   ]
  },
  {
   "cell_type": "code",
   "execution_count": 14,
   "metadata": {},
   "outputs": [],
   "source": [
    "labels = {\n",
    "    'train': train['label'],\n",
    "    'train_upsampled': train_upsampled['label'],\n",
    "    'test': test['label'],\n",
    "    'valid': valid['label'],\n",
    "    'train_valid': train_valid['label'],\n",
    "    'train_valid_upsampled': train_valid_upsampled['label']\n",
    "}"
   ]
  },
  {
   "cell_type": "code",
   "execution_count": 15,
   "metadata": {},
   "outputs": [],
   "source": [
    "to_drop = nonpredictors + ['promoter_seq_words', 'enhancer_seq_words']\n",
    "tf_x = {\n",
    "    'train': train.drop(to_drop, axis=1),\n",
    "    'train_upsampled': train_upsampled.drop(to_drop, axis=1),\n",
    "    'test': test.drop(to_drop, axis=1),\n",
    "    'valid': valid.drop(to_drop, axis=1),\n",
    "    'train_valid': train_valid.drop(to_drop, axis=1),\n",
    "    'train_valid_upsampled': train_valid_upsampled.drop(to_drop, axis=1)\n",
    "}"
   ]
  },
  {
   "cell_type": "markdown",
   "metadata": {},
   "source": [
    "# TF model"
   ]
  },
  {
   "cell_type": "code",
   "execution_count": 16,
   "metadata": {},
   "outputs": [
    {
     "data": {
      "text/plain": [
       "0.781021897810219"
      ]
     },
     "execution_count": 16,
     "metadata": {},
     "output_type": "execute_result"
    }
   ],
   "source": [
    "est_tf = GradientBoostingClassifier(n_estimators = 4000, learning_rate = 0.1,\n",
    "                                       max_depth = 5, max_features = 'log2', \n",
    "                                       random_state = 0)\n",
    "est_tf.fit(tf_x['train_valid_upsampled'], labels['train_valid_upsampled'])\n",
    "f1_score(labels['test'],\n",
    "        est_tf.predict(tf_x['test']))"
   ]
  },
  {
   "cell_type": "code",
   "execution_count": 17,
   "metadata": {
    "scrolled": true
   },
   "outputs": [
    {
     "data": {
      "text/plain": [
       "(0.8770491803278688, 0.7039473684210527)"
      ]
     },
     "execution_count": 17,
     "metadata": {},
     "output_type": "execute_result"
    }
   ],
   "source": [
    "precision_score(labels['test'], est_tf.predict(tf_x['test'])),\\\n",
    "recall_score(labels['test'], est_tf.predict(tf_x['test']))"
   ]
  },
  {
   "cell_type": "markdown",
   "metadata": {},
   "source": [
    "# GB sequences model"
   ]
  },
  {
   "cell_type": "code",
   "execution_count": 18,
   "metadata": {},
   "outputs": [],
   "source": [
    "promoters_dna2vec = dna2vec(s=30)\n",
    "promoters_dna2vec.fit(train_valid.promoter_seq_words.values)\n",
    "enhancers_dna2vec = dna2vec(s=30)\n",
    "enhancers_dna2vec.fit(train_valid.enhancer_seq_words.values)"
   ]
  },
  {
   "cell_type": "code",
   "execution_count": 19,
   "metadata": {},
   "outputs": [],
   "source": [
    "seq_avg_x = {}\n",
    "for name, df in zip(\n",
    "    ['train', 'valid', 'test', 'train_valid', 'train_upsampled', 'train_valid_upsampled'],\n",
    "    [train, valid, test, train_valid, train_upsampled, train_valid_upsampled] ):\n",
    "    promoters = transform_to_avg_vec(df.promoter_seq_words.values,\n",
    "                                     promoters_dna2vec,\n",
    "                                     'promoter')\n",
    "    enhancers = transform_to_avg_vec(df.enhancer_seq_words.values,\n",
    "                                     enhancers_dna2vec,\n",
    "                                     'enhancer')\n",
    "    seq_avg_x[name] = pd.concat((promoters, enhancers), axis=1)"
   ]
  },
  {
   "cell_type": "code",
   "execution_count": 20,
   "metadata": {},
   "outputs": [
    {
     "data": {
      "text/plain": [
       "GradientBoostingClassifier(ccp_alpha=0.0, criterion='friedman_mse', init=None,\n",
       "                           learning_rate=0.1, loss='deviance', max_depth=5,\n",
       "                           max_features='sqrt', max_leaf_nodes=None,\n",
       "                           min_impurity_decrease=0.0, min_impurity_split=None,\n",
       "                           min_samples_leaf=1, min_samples_split=2,\n",
       "                           min_weight_fraction_leaf=0.0, n_estimators=4000,\n",
       "                           n_iter_no_change=None, presort='deprecated',\n",
       "                           random_state=0, subsample=1.0, tol=0.0001,\n",
       "                           validation_fraction=0.1, verbose=0,\n",
       "                           warm_start=False)"
      ]
     },
     "execution_count": 20,
     "metadata": {},
     "output_type": "execute_result"
    }
   ],
   "source": [
    "estimator_seq_avg = GradientBoostingClassifier(learning_rate = 0.1, random_state = 0,\n",
    "                                                  n_estimators = 4000, max_depth = 5, \n",
    "                                                  max_features = 'sqrt')\n",
    "estimator_seq_avg.fit(seq_avg_x['train_valid_upsampled'], labels['train_valid_upsampled'])"
   ]
  },
  {
   "cell_type": "code",
   "execution_count": 21,
   "metadata": {},
   "outputs": [
    {
     "data": {
      "text/plain": [
       "0.40366972477064217"
      ]
     },
     "execution_count": 21,
     "metadata": {},
     "output_type": "execute_result"
    }
   ],
   "source": [
    "f1_score(labels['test'], \n",
    "         estimator_seq_avg.predict(seq_avg_x['test']))"
   ]
  },
  {
   "cell_type": "code",
   "execution_count": 22,
   "metadata": {},
   "outputs": [
    {
     "data": {
      "text/plain": [
       "(0.6666666666666666, 0.2894736842105263)"
      ]
     },
     "execution_count": 22,
     "metadata": {},
     "output_type": "execute_result"
    }
   ],
   "source": [
    "precision_score(labels['test'], \n",
    "         estimator_seq_avg.predict(seq_avg_x['test'])),\\\n",
    "recall_score(labels['test'], \n",
    "         estimator_seq_avg.predict(seq_avg_x['test']))"
   ]
  },
  {
   "cell_type": "markdown",
   "metadata": {},
   "source": [
    "# Combined TF&GB Sequences"
   ]
  },
  {
   "cell_type": "code",
   "execution_count": 23,
   "metadata": {},
   "outputs": [],
   "source": [
    "est_tf_trainonly = GradientBoostingClassifier(n_estimators = 4000, learning_rate = 0.1,\n",
    "                                       max_depth = 5, max_features = 'log2', \n",
    "                                       random_state = 0).fit(tf_x['train_upsampled'],\n",
    "                                                            labels['train_upsampled'])"
   ]
  },
  {
   "cell_type": "code",
   "execution_count": 24,
   "metadata": {},
   "outputs": [
    {
     "data": {
      "text/plain": [
       "GradientBoostingClassifier(ccp_alpha=0.0, criterion='friedman_mse', init=None,\n",
       "                           learning_rate=0.1, loss='deviance', max_depth=5,\n",
       "                           max_features='sqrt', max_leaf_nodes=None,\n",
       "                           min_impurity_decrease=0.0, min_impurity_split=None,\n",
       "                           min_samples_leaf=1, min_samples_split=2,\n",
       "                           min_weight_fraction_leaf=0.0, n_estimators=4000,\n",
       "                           n_iter_no_change=None, presort='deprecated',\n",
       "                           random_state=0, subsample=1.0, tol=0.0001,\n",
       "                           validation_fraction=0.1, verbose=0,\n",
       "                           warm_start=False)"
      ]
     },
     "execution_count": 24,
     "metadata": {},
     "output_type": "execute_result"
    }
   ],
   "source": [
    "est_seq_avg_trainonly = GradientBoostingClassifier(learning_rate = 0.1, random_state = 0,\n",
    "                                                  n_estimators = 4000, max_depth = 5, \n",
    "                                                  max_features = 'sqrt')\n",
    "est_seq_avg_trainonly.fit(seq_avg_x['train_upsampled'],\n",
    "                         labels['train_upsampled'])"
   ]
  },
  {
   "cell_type": "code",
   "execution_count": 25,
   "metadata": {},
   "outputs": [],
   "source": [
    "est_tf_valid_prob = est_tf_trainonly.predict_proba(tf_x['valid'])\n",
    "est_seq_avg_valid_prob = est_seq_avg_trainonly.predict_proba(seq_avg_x['valid'])"
   ]
  },
  {
   "cell_type": "code",
   "execution_count": 26,
   "metadata": {},
   "outputs": [
    {
     "data": {
      "text/plain": [
       "GradientBoostingClassifier(ccp_alpha=0.0, criterion='friedman_mse', init=None,\n",
       "                           learning_rate=0.05, loss='deviance', max_depth=2,\n",
       "                           max_features=None, max_leaf_nodes=None,\n",
       "                           min_impurity_decrease=0.0, min_impurity_split=None,\n",
       "                           min_samples_leaf=1, min_samples_split=2,\n",
       "                           min_weight_fraction_leaf=0.0, n_estimators=20,\n",
       "                           n_iter_no_change=None, presort='deprecated',\n",
       "                           random_state=0, subsample=1.0, tol=0.0001,\n",
       "                           validation_fraction=0.1, verbose=0,\n",
       "                           warm_start=False)"
      ]
     },
     "execution_count": 26,
     "metadata": {},
     "output_type": "execute_result"
    }
   ],
   "source": [
    "est_combined_seq_avg = GradientBoostingClassifier(learning_rate=0.05, random_state=0,\n",
    "                                                  n_estimators=20, max_depth=2)\n",
    "est_combined_seq_avg.fit(np.concatenate((est_tf_valid_prob, est_seq_avg_valid_prob), axis=1),\n",
    "                        labels['valid'])"
   ]
  },
  {
   "cell_type": "code",
   "execution_count": 27,
   "metadata": {},
   "outputs": [],
   "source": [
    "est_tf_test_prob = est_tf.predict_proba(tf_x['test'])\n",
    "est_seq_avg_test_prob = estimator_seq_avg.predict_proba(seq_avg_x['test'])"
   ]
  },
  {
   "cell_type": "code",
   "execution_count": 28,
   "metadata": {},
   "outputs": [],
   "source": [
    "combined_pred_seq = est_combined_seq_avg.predict(\n",
    "    np.concatenate((est_tf_test_prob, est_seq_avg_test_prob), axis=1)\n",
    ")"
   ]
  },
  {
   "cell_type": "code",
   "execution_count": 29,
   "metadata": {},
   "outputs": [
    {
     "data": {
      "text/plain": [
       "0.7854545454545453"
      ]
     },
     "execution_count": 29,
     "metadata": {},
     "output_type": "execute_result"
    }
   ],
   "source": [
    "f1_score(labels['test'], combined_pred_seq)"
   ]
  },
  {
   "cell_type": "code",
   "execution_count": 30,
   "metadata": {},
   "outputs": [
    {
     "data": {
      "text/plain": [
       "(0.8780487804878049, 0.7105263157894737)"
      ]
     },
     "execution_count": 30,
     "metadata": {},
     "output_type": "execute_result"
    }
   ],
   "source": [
    "precision_score(labels['test'], combined_pred_seq),\\\n",
    "recall_score(labels['test'], combined_pred_seq)"
   ]
  },
  {
   "cell_type": "markdown",
   "metadata": {},
   "source": [
    "# NN"
   ]
  },
  {
   "cell_type": "code",
   "execution_count": 31,
   "metadata": {},
   "outputs": [],
   "source": [
    "train_valid_nn = filter_seq_length(train_valid, 3000)"
   ]
  },
  {
   "cell_type": "code",
   "execution_count": 32,
   "metadata": {},
   "outputs": [],
   "source": [
    "promoters_tokenizer = dna_tokenizer(sent_size=600)\n",
    "promoters_tokenizer.fit(train_valid_nn.promoter_seq_words.values)\n",
    "enhancers_tokenizer = dna_tokenizer(sent_size=600)\n",
    "enhancers_tokenizer.fit(train_valid_nn.enhancer_seq_words.values)"
   ]
  },
  {
   "cell_type": "code",
   "execution_count": 33,
   "metadata": {},
   "outputs": [],
   "source": [
    "promoters_embeddins = get_embeddings_matrix(promoters_dna2vec, \n",
    "                                            promoters_tokenizer)\n",
    "enhancers_embeddins = get_embeddings_matrix(enhancers_dna2vec, \n",
    "                                            enhancers_tokenizer)"
   ]
  },
  {
   "cell_type": "code",
   "execution_count": 34,
   "metadata": {},
   "outputs": [],
   "source": [
    "seq_nn_x = {}\n",
    "labels_nn = {}\n",
    "\n",
    "for name, df in zip(\n",
    "    ['train', 'valid', 'test', 'train_valid', 'train_upsampled', 'train_valid_upsampled'],\n",
    "    [train, valid, test, train_valid, train_upsampled, train_valid_upsampled] ):\n",
    "    df_filtered = filter_seq_length(df)\n",
    "    promoters = promoters_tokenizer.transform(df_filtered['promoter_seq_words'].values)\n",
    "    enhancers = enhancers_tokenizer.transform(df_filtered['enhancer_seq_words'].values)\n",
    "    seq_nn_x[name] = [promoters, enhancers]\n",
    "    labels_nn[name] = df_filtered['label']"
   ]
  },
  {
   "cell_type": "code",
   "execution_count": 35,
   "metadata": {},
   "outputs": [
    {
     "name": "stdout",
     "output_type": "stream",
     "text": [
      "WARNING:tensorflow:From /home/dario/.local/lib/python3.6/site-packages/tensorflow/python/keras/initializers.py:119: calling RandomUniform.__init__ (from tensorflow.python.ops.init_ops) with dtype is deprecated and will be removed in a future version.\n",
      "Instructions for updating:\n",
      "Call initializer instance with the dtype argument instead of passing it to the constructor\n",
      "WARNING:tensorflow:From /home/dario/.local/lib/python3.6/site-packages/tensorflow/python/ops/init_ops.py:1251: calling VarianceScaling.__init__ (from tensorflow.python.ops.init_ops) with dtype is deprecated and will be removed in a future version.\n",
      "Instructions for updating:\n",
      "Call initializer instance with the dtype argument instead of passing it to the constructor\n",
      "WARNING:tensorflow:From /home/dario/.local/lib/python3.6/site-packages/tensorflow/python/ops/nn_impl.py:180: add_dispatch_support.<locals>.wrapper (from tensorflow.python.ops.array_ops) is deprecated and will be removed in a future version.\n",
      "Instructions for updating:\n",
      "Use tf.where in 2.0, which has the same broadcast rule as np.where\n"
     ]
    }
   ],
   "source": [
    "seq_nn_trainonly = get_model(promoters_embeddins, enhancers_embeddins,\n",
    "                            n_filters=6, sent_size=600)"
   ]
  },
  {
   "cell_type": "code",
   "execution_count": 36,
   "metadata": {},
   "outputs": [
    {
     "name": "stdout",
     "output_type": "stream",
     "text": [
      "Epoch 1/5\n",
      "24782/24782 [==============================] - 204s 8ms/sample - loss: 0.5194 - acc: 0.7813\n",
      "Epoch 2/5\n",
      "24782/24782 [==============================] - 200s 8ms/sample - loss: 0.4219 - acc: 0.8253\n",
      "Epoch 3/5\n",
      "24782/24782 [==============================] - 195s 8ms/sample - loss: 0.2404 - acc: 0.9129\n",
      "Epoch 4/5\n",
      "24782/24782 [==============================] - 196s 8ms/sample - loss: 0.1474 - acc: 0.9458\n",
      "Epoch 5/5\n",
      "24782/24782 [==============================] - 200s 8ms/sample - loss: 0.1061 - acc: 0.9619\n"
     ]
    },
    {
     "data": {
      "text/plain": [
       "<tensorflow.python.keras.callbacks.History at 0x7f74da327160>"
      ]
     },
     "execution_count": 36,
     "metadata": {},
     "output_type": "execute_result"
    }
   ],
   "source": [
    "seq_nn_trainonly.fit(x=seq_nn_x['train_upsampled'],\n",
    "            y=labels_nn['train_upsampled'],\n",
    "            epochs=5, batch_size=8)"
   ]
  },
  {
   "cell_type": "code",
   "execution_count": 37,
   "metadata": {},
   "outputs": [
    {
     "name": "stdout",
     "output_type": "stream",
     "text": [
      "Epoch 1/5\n",
      "30816/30816 [==============================] - 242s 8ms/sample - loss: 0.4336 - acc: 0.8342\n",
      "Epoch 2/5\n",
      "30816/30816 [==============================] - 251s 8ms/sample - loss: 0.2525 - acc: 0.9216\n",
      "Epoch 3/5\n",
      "30816/30816 [==============================] - 255s 8ms/sample - loss: 0.1889 - acc: 0.9355\n",
      "Epoch 4/5\n",
      "30816/30816 [==============================] - 247s 8ms/sample - loss: 0.1491 - acc: 0.9461\n",
      "Epoch 5/5\n",
      "30816/30816 [==============================] - 238s 8ms/sample - loss: 0.1258 - acc: 0.9549\n"
     ]
    },
    {
     "data": {
      "text/plain": [
       "<tensorflow.python.keras.callbacks.History at 0x7f7488481358>"
      ]
     },
     "execution_count": 37,
     "metadata": {},
     "output_type": "execute_result"
    }
   ],
   "source": [
    "seq_nn = get_model(promoters_embeddins, enhancers_embeddins,\n",
    "                            n_filters=6, sent_size=600)\n",
    "seq_nn.fit(x=seq_nn_x['train_valid_upsampled'],\n",
    "            y=labels_nn['train_valid_upsampled'],\n",
    "            epochs=5, batch_size=8)"
   ]
  },
  {
   "cell_type": "code",
   "execution_count": 38,
   "metadata": {},
   "outputs": [],
   "source": [
    "test_preds_nn = seq_nn.predict(seq_nn_x['test'])"
   ]
  },
  {
   "cell_type": "code",
   "execution_count": 39,
   "metadata": {},
   "outputs": [
    {
     "data": {
      "text/plain": [
       "0.4354243542435424"
      ]
     },
     "execution_count": 39,
     "metadata": {},
     "output_type": "execute_result"
    }
   ],
   "source": [
    "f1_score(labels_nn['test'],\n",
    "        test_preds_nn > 0.5)"
   ]
  },
  {
   "cell_type": "code",
   "execution_count": 40,
   "metadata": {},
   "outputs": [
    {
     "data": {
      "text/plain": [
       "(0.3597560975609756, 0.5514018691588785)"
      ]
     },
     "execution_count": 40,
     "metadata": {},
     "output_type": "execute_result"
    }
   ],
   "source": [
    "precision_score(labels_nn['test'], test_preds_nn > 0.5),\\\n",
    "recall_score(labels_nn['test'], test_preds_nn > 0.5)"
   ]
  },
  {
   "cell_type": "markdown",
   "metadata": {},
   "source": [
    "# Combined NN&TF"
   ]
  },
  {
   "cell_type": "code",
   "execution_count": 41,
   "metadata": {},
   "outputs": [],
   "source": [
    "est_tf_valid_prob_nn = est_tf_trainonly.predict_proba(tf_x['valid'].loc[labels_nn['valid'].index])"
   ]
  },
  {
   "cell_type": "code",
   "execution_count": 42,
   "metadata": {},
   "outputs": [],
   "source": [
    "est_seq_nn_valid_prob = seq_nn_trainonly.predict(seq_nn_x['valid'])"
   ]
  },
  {
   "cell_type": "code",
   "execution_count": 43,
   "metadata": {},
   "outputs": [
    {
     "data": {
      "text/plain": [
       "GradientBoostingClassifier(ccp_alpha=0.0, criterion='friedman_mse', init=None,\n",
       "                           learning_rate=0.05, loss='deviance', max_depth=2,\n",
       "                           max_features=None, max_leaf_nodes=None,\n",
       "                           min_impurity_decrease=0.0, min_impurity_split=None,\n",
       "                           min_samples_leaf=1, min_samples_split=2,\n",
       "                           min_weight_fraction_leaf=0.0, n_estimators=20,\n",
       "                           n_iter_no_change=None, presort='deprecated',\n",
       "                           random_state=0, subsample=1.0, tol=0.0001,\n",
       "                           validation_fraction=0.1, verbose=0,\n",
       "                           warm_start=False)"
      ]
     },
     "execution_count": 43,
     "metadata": {},
     "output_type": "execute_result"
    }
   ],
   "source": [
    "est_combined_seq_nn = GradientBoostingClassifier(learning_rate=0.05, random_state=0,\n",
    "                                                  n_estimators=20, max_depth=2)\n",
    "est_combined_seq_nn.fit(np.concatenate((est_tf_valid_prob_nn, est_seq_nn_valid_prob), axis=1),\n",
    "                        labels_nn['valid'])"
   ]
  },
  {
   "cell_type": "code",
   "execution_count": 44,
   "metadata": {},
   "outputs": [],
   "source": [
    "est_tf_test_prob_nn = est_tf.predict_proba(tf_x['test'].loc[labels_nn['test'].index])"
   ]
  },
  {
   "cell_type": "code",
   "execution_count": 45,
   "metadata": {},
   "outputs": [],
   "source": [
    "preds_combined_nn = est_combined_seq_nn.predict(\n",
    "    np.concatenate((est_tf_test_prob_nn, test_preds_nn), axis=1)\n",
    ")"
   ]
  },
  {
   "cell_type": "code",
   "execution_count": 46,
   "metadata": {},
   "outputs": [
    {
     "data": {
      "text/plain": [
       "0.7650273224043717"
      ]
     },
     "execution_count": 46,
     "metadata": {},
     "output_type": "execute_result"
    }
   ],
   "source": [
    "f1_score(labels_nn['test'], preds_combined_nn)"
   ]
  },
  {
   "cell_type": "code",
   "execution_count": 47,
   "metadata": {},
   "outputs": [
    {
     "data": {
      "text/plain": [
       "(0.9210526315789473, 0.6542056074766355)"
      ]
     },
     "execution_count": 47,
     "metadata": {},
     "output_type": "execute_result"
    }
   ],
   "source": [
    "precision_score(labels_nn['test'], preds_combined_nn),\\\n",
    "recall_score(labels_nn['test'], preds_combined_nn)"
   ]
  }
 ],
 "metadata": {
  "kernelspec": {
   "display_name": "Python 3",
   "language": "python",
   "name": "python3"
  },
  "language_info": {
   "codemirror_mode": {
    "name": "ipython",
    "version": 3
   },
   "file_extension": ".py",
   "mimetype": "text/x-python",
   "name": "python",
   "nbconvert_exporter": "python",
   "pygments_lexer": "ipython3",
   "version": "3.6.9"
  }
 },
 "nbformat": 4,
 "nbformat_minor": 4
}
