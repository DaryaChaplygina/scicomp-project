{
 "cells": [
  {
   "cell_type": "code",
   "execution_count": 2,
   "metadata": {},
   "outputs": [],
   "source": [
    "import numpy as np\n",
    "import pandas as pd\n",
    "import pysam\n",
    "\n",
    "from tensorflow.keras import models, layers, losses, preprocessing as kprocessing\n",
    "from tensorflow.keras import backend as K\n",
    "import gensim\n",
    "\n",
    "from sklearn.model_selection import StratifiedKFold, cross_val_score\n",
    "from sklearn.model_selection import train_test_split\n",
    "from sklearn.ensemble import GradientBoostingClassifier\n",
    "from sklearn.metrics import f1_score, precision_score, recall_score\n",
    "\n",
    "import matplotlib.pyplot as plt"
   ]
  },
  {
   "cell_type": "code",
   "execution_count": 31,
   "metadata": {},
   "outputs": [],
   "source": [
    "np.random.seed(0)"
   ]
  },
  {
   "cell_type": "code",
   "execution_count": 42,
   "metadata": {},
   "outputs": [],
   "source": [
    "data = pd.read_csv('../Downloads/training.csv')"
   ]
  },
  {
   "cell_type": "code",
   "execution_count": 43,
   "metadata": {},
   "outputs": [],
   "source": [
    "ref = pysam.FastaFile('male.hg19.fa') # reference genome"
   ]
  },
  {
   "cell_type": "code",
   "execution_count": 44,
   "metadata": {},
   "outputs": [],
   "source": [
    "nonpredictors = ['enhancer_chrom', 'enhancer_start', 'enhancer_end', \n",
    "                 'promoter_chrom', 'promoter_start', 'promoter_end', \n",
    "                 'window_chrom', 'window_start', 'window_end', 'window_name', \n",
    "                 'active_promoters_in_window', 'interactions_in_window', \n",
    "                 'enhancer_distance_to_promoter', 'bin', 'label',\n",
    "                 'promoter_seq', 'enhancer_seq'] "
   ]
  },
  {
   "cell_type": "code",
   "execution_count": 45,
   "metadata": {},
   "outputs": [],
   "source": [
    "def fetch_seq(start, end, region):\n",
    "    seq = ref.fetch(start=start - 1,\n",
    "                    end=end,\n",
    "                    region=region)\n",
    "    return seq.lower()\n",
    "\n",
    "data['enhancer_seq'] = data.apply(lambda x: fetch_seq(x['enhancer_start'],\n",
    "                                                x['enhancer_end'],\n",
    "                                                x['enhancer_chrom']),\n",
    "                                  axis=1)"
   ]
  },
  {
   "cell_type": "code",
   "execution_count": 46,
   "metadata": {},
   "outputs": [
    {
     "name": "stdout",
     "output_type": "stream",
     "text": [
      "mean      424.558867\n",
      "median    243.000000\n",
      "std       530.822479\n",
      "Name: enhancer_seq, dtype: float64\n"
     ]
    },
    {
     "data": {
      "image/png": "[encoded data removed]",
      "text/plain": [
       "<Figure size 432x288 with 1 Axes>"
      ]
     },
     "metadata": {
      "needs_background": "light"
     },
     "output_type": "display_data"
    }
   ],
   "source": [
    "data['enhancer_seq'].apply(len).hist(bins=20)\n",
    "print(data['enhancer_seq'].apply(len).agg(['mean', 'median', 'std']))"
   ]
  },
  {
   "cell_type": "code",
   "execution_count": 47,
   "metadata": {},
   "outputs": [],
   "source": [
    "data['promoter_seq'] = data.apply(lambda x: fetch_seq(x['promoter_start'],\n",
    "                                                x['promoter_end'],\n",
    "                                                x['promoter_chrom']),\n",
    "                                  axis=1)"
   ]
  },
  {
   "cell_type": "code",
   "execution_count": 48,
   "metadata": {},
   "outputs": [
    {
     "name": "stdout",
     "output_type": "stream",
     "text": [
      "mean      1245.444745\n",
      "median    1152.000000\n",
      "std        676.689914\n",
      "Name: promoter_seq, dtype: float64\n"
     ]
    },
    {
     "data": {
      "image/png": "[encoded data removed]",
      "text/plain": [
       "<Figure size 432x288 with 1 Axes>"
      ]
     },
     "metadata": {
      "needs_background": "light"
     },
     "output_type": "display_data"
    }
   ],
   "source": [
    "data['promoter_seq'].apply(len).hist(bins=20)\n",
    "print(data['promoter_seq'].apply(len).agg(['mean', 'median', 'std']))"
   ]
  },
  {
   "cell_type": "code",
   "execution_count": 49,
   "metadata": {},
   "outputs": [
    {
     "data": {
      "text/plain": [
       "0.05262725779967159"
      ]
     },
     "execution_count": 49,
     "metadata": {},
     "output_type": "execute_result"
    }
   ],
   "source": [
    "data[(data.promoter_seq.apply(len) > 2500) |\n",
    "    (data.enhancer_seq.apply(len) > 2500)].shape[0] / data.shape[0]"
   ]
  },
  {
   "cell_type": "code",
   "execution_count": 50,
   "metadata": {},
   "outputs": [],
   "source": [
    "def split_to_kmers(x, k=5):\n",
    "    return [x[i:min(i+k, len(x))] for i in range(0, len(x), k)]"
   ]
  },
  {
   "cell_type": "code",
   "execution_count": 51,
   "metadata": {},
   "outputs": [],
   "source": [
    "data['promoter_seq_words'] = data['promoter_seq'].apply(split_to_kmers)\n",
    "data['enhancer_seq_words'] = data['enhancer_seq'].apply(split_to_kmers)"
   ]
  },
  {
   "cell_type": "markdown",
   "metadata": {},
   "source": [
    "# Train/valid/test splitting & upsampling function "
   ]
  },
  {
   "cell_type": "code",
   "execution_count": 52,
   "metadata": {},
   "outputs": [],
   "source": [
    "data = data.set_index(['enhancer_name', 'promoter_name'])"
   ]
  },
  {
   "cell_type": "code",
   "execution_count": 53,
   "metadata": {},
   "outputs": [],
   "source": [
    "train_valid, test = train_test_split(data, test_size=0.1, random_state=0, stratify=data['label'])\n",
    "train, valid = train_test_split(train_valid, test_size=0.2, random_state=0, stratify=train_valid['label'])"
   ]
  },
  {
   "cell_type": "code",
   "execution_count": 54,
   "metadata": {
    "scrolled": true
   },
   "outputs": [
    {
     "data": {
      "text/plain": [
       "<AxesSubplot:>"
      ]
     },
     "execution_count": 54,
     "metadata": {},
     "output_type": "execute_result"
    },
    {
     "data": {
      "image/png": "[encoded data removed]",
      "text/plain": [
       "<Figure size 432x288 with 1 Axes>"
      ]
     },
     "metadata": {
      "needs_background": "light"
     },
     "output_type": "display_data"
    }
   ],
   "source": [
    "data.label.hist()"
   ]
  },
  {
   "cell_type": "code",
   "execution_count": 55,
   "metadata": {},
   "outputs": [],
   "source": [
    "def upsample(data, label, n_times=6, rs=0):\n",
    "    minor_class = data[data.label == label]\n",
    "    minor_class = minor_class.sample(minor_class.shape[0] * n_times, \n",
    "                                     replace=True, random_state=rs)\n",
    "    new_data = pd.concat((data, minor_class)).sample(frac=1, \n",
    "                                                     random_state=rs) # concat and shuffle the data\n",
    "    return new_data"
   ]
  },
  {
   "cell_type": "code",
   "execution_count": 56,
   "metadata": {},
   "outputs": [],
   "source": [
    "train_valid_upsampled = upsample(train_valid, 1)\n",
    "train_upsampled = upsample(train, 1)"
   ]
  },
  {
   "cell_type": "code",
   "execution_count": 57,
   "metadata": {},
   "outputs": [],
   "source": [
    "labels = {\n",
    "    'train': train['label'],\n",
    "    'train_upsampled': train_upsampled['label'],\n",
    "    'test': test['label'],\n",
    "    'valid': valid['label'],\n",
    "    'train_valid': train_valid['label'],\n",
    "    'train_valid_upsampled': train_valid_upsampled['label']\n",
    "}"
   ]
  },
  {
   "cell_type": "code",
   "execution_count": 58,
   "metadata": {},
   "outputs": [],
   "source": [
    "to_drop = nonpredictors + ['promoter_seq_words', 'enhancer_seq_words']\n",
    "tf_x = {\n",
    "    'train': train.drop(to_drop, axis=1),\n",
    "    'train_upsampled': train_upsampled.drop(to_drop, axis=1),\n",
    "    'test': test.drop(to_drop, axis=1),\n",
    "    'valid': valid.drop(to_drop, axis=1),\n",
    "    'train_valid': train_valid.drop(to_drop, axis=1),\n",
    "    'train_valid_upsampled': train_valid_upsampled.drop(to_drop, axis=1)\n",
    "}"
   ]
  },
  {
   "cell_type": "markdown",
   "metadata": {},
   "source": [
    "# TargetFinder model with/without upsampling"
   ]
  },
  {
   "cell_type": "code",
   "execution_count": 59,
   "metadata": {},
   "outputs": [],
   "source": [
    "est_tf = GradientBoostingClassifier(n_estimators = 4000, learning_rate = 0.1,\n",
    "                                       max_depth = 5, max_features = 'log2', \n",
    "                                       random_state = 0)"
   ]
  },
  {
   "cell_type": "code",
   "execution_count": 60,
   "metadata": {},
   "outputs": [
    {
     "data": {
      "text/plain": [
       "0.8389380530973451"
      ]
     },
     "execution_count": 60,
     "metadata": {},
     "output_type": "execute_result"
    }
   ],
   "source": [
    "est_tf.fit(tf_x['train'], labels['train'])\n",
    "f1_score(labels['valid'],\n",
    "        est_tf.predict(tf_x['valid']))"
   ]
  },
  {
   "cell_type": "code",
   "execution_count": 61,
   "metadata": {},
   "outputs": [
    {
     "data": {
      "text/plain": [
       "0.8468158347676419"
      ]
     },
     "execution_count": 61,
     "metadata": {},
     "output_type": "execute_result"
    }
   ],
   "source": [
    "est_tf.fit(tf_x['train_upsampled'], labels['train_upsampled'])\n",
    "f1_score(labels['valid'],\n",
    "        est_tf.predict(tf_x['valid']))"
   ]
  },
  {
   "cell_type": "code",
   "execution_count": 65,
   "metadata": {},
   "outputs": [
    {
     "data": {
      "text/plain": [
       "0.8528528528528528"
      ]
     },
     "execution_count": 65,
     "metadata": {},
     "output_type": "execute_result"
    }
   ],
   "source": [
    "est_tf.fit(tf_x['train_valid_upsampled'], labels['train_valid_upsampled'])\n",
    "f1_score(labels['test'],\n",
    "        est_tf.predict(tf_x['test']))"
   ]
  },
  {
   "cell_type": "code",
   "execution_count": 86,
   "metadata": {},
   "outputs": [
    {
     "data": {
      "text/plain": [
       "(0.8930817610062893, 0.8160919540229885)"
      ]
     },
     "execution_count": 86,
     "metadata": {},
     "output_type": "execute_result"
    }
   ],
   "source": [
    "precision_score(labels['test'], est_tf.predict(tf_x['test'])),\\\n",
    "recall_score(labels['test'], est_tf.predict(tf_x['test']))"
   ]
  },
  {
   "cell_type": "markdown",
   "metadata": {},
   "source": [
    "# Sequences encoding"
   ]
  },
  {
   "cell_type": "code",
   "execution_count": 62,
   "metadata": {},
   "outputs": [],
   "source": [
    "class dna2vec:\n",
    "    def __init__(self, s=20, min_count=2, window=2):\n",
    "        self.size = s\n",
    "        self.w2v = gensim.models.Word2Vec(size=s, \n",
    "                                            window=window, \n",
    "                                            min_count=min_count, \n",
    "                                            workers=7)\n",
    "    \n",
    "    def fit(self, corpus):\n",
    "        self.w2v.build_vocab(corpus)\n",
    "        self.w2v.train(corpus,\n",
    "                       total_examples=self.w2v.corpus_count,\n",
    "                       epochs=30,\n",
    "                       report_delay=1)\n",
    "        self.w2v.init_sims(replace=True)"
   ]
  },
  {
   "cell_type": "markdown",
   "metadata": {},
   "source": [
    "# GB + sequences of size 20"
   ]
  },
  {
   "cell_type": "code",
   "execution_count": 63,
   "metadata": {},
   "outputs": [],
   "source": [
    "promoters_dna2vec = dna2vec()\n",
    "promoters_dna2vec.fit(train_valid.promoter_seq_words.values)\n",
    "enhancers_dna2vec = dna2vec()\n",
    "enhancers_dna2vec.fit(train_valid.enhancer_seq_words.values)"
   ]
  },
  {
   "cell_type": "code",
   "execution_count": 64,
   "metadata": {},
   "outputs": [],
   "source": [
    "def transform_to_avg_vec(corpus, model, name):\n",
    "    s = model.size\n",
    "    vectors = np.array([\n",
    "            np.mean([model.w2v.wv[w] for w in sent if w in model.w2v.wv] or [np.zeros(s)], \n",
    "                    axis=0)\n",
    "            for sent in corpus\n",
    "        ])\n",
    "    dataset = dict(zip([f'{name}_{i}' for i in range(s)], vectors.T))\n",
    "    return pd.DataFrame(dataset)"
   ]
  },
  {
   "cell_type": "code",
   "execution_count": 66,
   "metadata": {},
   "outputs": [],
   "source": [
    "seq_avg_x = {}\n",
    "for name, df in zip(\n",
    "    ['train', 'valid', 'test', 'train_valid', 'train_upsampled', 'train_valid_upsampled'],\n",
    "    [train, valid, test, train_valid, train_upsampled, train_valid_upsampled] ):\n",
    "    promoters = transform_to_avg_vec(df.promoter_seq_words.values,\n",
    "                                     promoters_dna2vec,\n",
    "                                     'promoter')\n",
    "    enhancers = transform_to_avg_vec(df.enhancer_seq_words.values,\n",
    "                                     enhancers_dna2vec,\n",
    "                                     'enhancer')\n",
    "    seq_avg_x[name] = pd.concat((promoters, enhancers), axis=1)"
   ]
  },
  {
   "cell_type": "code",
   "execution_count": 69,
   "metadata": {},
   "outputs": [
    {
     "name": "stdout",
     "output_type": "stream",
     "text": [
      "0.27135678391959794\n",
      "0.28776978417266186\n",
      "0.26566416040100255\n",
      "0.28501228501228504\n",
      "0.28921568627450983\n",
      "0.3054892601431981\n",
      "0.2729528535980149\n",
      "0.27860696517412936\n"
     ]
    }
   ],
   "source": [
    "best_params = {'n_estimators': -1,\n",
    "               'max_depth': -1,\n",
    "               'max_features': -1}\n",
    "best_f1 = 0\n",
    "\n",
    "for n_est in [2000, 4000]:\n",
    "    for md in range(4, 6):\n",
    "        for mf in ['log2', 'sqrt']:\n",
    "            estimator = GradientBoostingClassifier(n_estimators = n_est, \n",
    "                                                   learning_rate = 0.1,\n",
    "                                                   max_depth = md,\n",
    "                                                   max_features=mf,\n",
    "                                                   random_state = 0)\n",
    "            estimator.fit(seq_avg_x['train'], labels['train'])\n",
    "            preds_valid = estimator.predict(seq_avg_x['valid'])\n",
    "            f1 = f1_score(labels['valid'], preds_valid)\n",
    "            print(f1)\n",
    "            if f1 > best_f1:\n",
    "                best_params['n_estimators'] = n_est\n",
    "                best_params['max_depth'] = md\n",
    "                best_params['max_features'] = mf\n",
    "                best_f1 = f1"
   ]
  },
  {
   "cell_type": "code",
   "execution_count": 73,
   "metadata": {},
   "outputs": [
    {
     "data": {
      "text/plain": [
       "({'n_estimators': 4000, 'max_depth': 4, 'max_features': 'sqrt'},\n",
       " 0.3054892601431981)"
      ]
     },
     "execution_count": 73,
     "metadata": {},
     "output_type": "execute_result"
    }
   ],
   "source": [
    "best_params, best_f1"
   ]
  },
  {
   "cell_type": "markdown",
   "metadata": {},
   "source": [
    "# GB + sequences of size 20 + upsampling"
   ]
  },
  {
   "cell_type": "code",
   "execution_count": 75,
   "metadata": {},
   "outputs": [
    {
     "data": {
      "text/plain": [
       "GradientBoostingClassifier(ccp_alpha=0.0, criterion='friedman_mse', init=None,\n",
       "                           learning_rate=0.1, loss='deviance', max_depth=4,\n",
       "                           max_features='sqrt', max_leaf_nodes=None,\n",
       "                           min_impurity_decrease=0.0, min_impurity_split=None,\n",
       "                           min_samples_leaf=1, min_samples_split=2,\n",
       "                           min_weight_fraction_leaf=0.0, n_estimators=4000,\n",
       "                           n_iter_no_change=None, presort='deprecated',\n",
       "                           random_state=0, subsample=1.0, tol=0.0001,\n",
       "                           validation_fraction=0.1, verbose=0,\n",
       "                           warm_start=False)"
      ]
     },
     "execution_count": 75,
     "metadata": {},
     "output_type": "execute_result"
    }
   ],
   "source": [
    "estimator_seq_avg = GradientBoostingClassifier(learning_rate = 0.1, random_state = 0,\n",
    "                                              **best_params)\n",
    "estimator_seq_avg.fit(seq_avg_x['train_upsampled'], labels['train_upsampled'])"
   ]
  },
  {
   "cell_type": "code",
   "execution_count": 76,
   "metadata": {},
   "outputs": [
    {
     "data": {
      "text/plain": [
       "0.3118040089086859"
      ]
     },
     "execution_count": 76,
     "metadata": {},
     "output_type": "execute_result"
    }
   ],
   "source": [
    "f1_score(labels['valid'], estimator_seq_avg.predict(seq_avg_x['valid']))"
   ]
  },
  {
   "cell_type": "markdown",
   "metadata": {},
   "source": [
    "# GB + sequences of size 30"
   ]
  },
  {
   "cell_type": "code",
   "execution_count": 77,
   "metadata": {},
   "outputs": [],
   "source": [
    "promoters_dna2vec_30 = dna2vec(s=30)\n",
    "promoters_dna2vec_30.fit(train_valid.promoter_seq_words.values)\n",
    "enhancers_dna2vec_30 = dna2vec(s=30)\n",
    "enhancers_dna2vec_30.fit(train_valid.enhancer_seq_words.values)"
   ]
  },
  {
   "cell_type": "code",
   "execution_count": 78,
   "metadata": {},
   "outputs": [],
   "source": [
    "seq_avg_x_30 = {}\n",
    "for name, df in zip(\n",
    "    ['train', 'valid', 'test', 'train_valid', 'train_upsampled', 'train_valid_upsampled'],\n",
    "    [train, valid, test, train_valid, train_upsampled, train_valid_upsampled] ):\n",
    "    promoters = transform_to_avg_vec(df.promoter_seq_words.values,\n",
    "                                     promoters_dna2vec_30,\n",
    "                                     'promoter')\n",
    "    enhancers = transform_to_avg_vec(df.enhancer_seq_words.values,\n",
    "                                     enhancers_dna2vec_30,\n",
    "                                     'enhancer')\n",
    "    seq_avg_x_30[name] = pd.concat((promoters, enhancers), axis=1)"
   ]
  },
  {
   "cell_type": "code",
   "execution_count": 80,
   "metadata": {},
   "outputs": [
    {
     "name": "stdout",
     "output_type": "stream",
     "text": [
      "0.2772277227722772\n",
      "0.2766990291262136\n",
      "0.28428927680798005\n",
      "0.29207920792079206\n",
      "0.2743142144638404\n",
      "0.2829736211031175\n",
      "0.29484029484029484\n",
      "0.30731707317073176\n"
     ]
    }
   ],
   "source": [
    "best_params_30 = {'n_estimators': -1,\n",
    "               'max_depth': -1,\n",
    "               'max_features': -1}\n",
    "best_f1_30 = 0\n",
    "\n",
    "for n_est in [2000, 4000]:\n",
    "    for md in range(4, 6):\n",
    "        for mf in ['log2', 'sqrt']:\n",
    "            estimator = GradientBoostingClassifier(n_estimators = n_est, \n",
    "                                                   learning_rate = 0.1,\n",
    "                                                   max_depth = md,\n",
    "                                                   max_features=mf,\n",
    "                                                   random_state = 0)\n",
    "            estimator.fit(seq_avg_x_30['train'], labels['train'])\n",
    "            preds_valid = estimator.predict(seq_avg_x_30['valid'])\n",
    "            f1 = f1_score(labels['valid'], preds_valid)\n",
    "            print(f1)\n",
    "            if f1 > best_f1_30:\n",
    "                best_params_30['n_estimators'] = n_est\n",
    "                best_params_30['max_depth'] = md\n",
    "                best_params_30['max_features'] = mf\n",
    "                best_f1_30 = f1"
   ]
  },
  {
   "cell_type": "code",
   "execution_count": 82,
   "metadata": {
    "scrolled": true
   },
   "outputs": [
    {
     "data": {
      "text/plain": [
       "({'n_estimators': 4000, 'max_depth': 5, 'max_features': 'sqrt'},\n",
       " 0.30731707317073176)"
      ]
     },
     "execution_count": 82,
     "metadata": {},
     "output_type": "execute_result"
    }
   ],
   "source": [
    "best_params_30, best_f1_30"
   ]
  },
  {
   "cell_type": "markdown",
   "metadata": {},
   "source": [
    "# GB + sequences of size 30 + upsampling"
   ]
  },
  {
   "cell_type": "code",
   "execution_count": 83,
   "metadata": {},
   "outputs": [
    {
     "data": {
      "text/plain": [
       "GradientBoostingClassifier(ccp_alpha=0.0, criterion='friedman_mse', init=None,\n",
       "                           learning_rate=0.1, loss='deviance', max_depth=5,\n",
       "                           max_features='sqrt', max_leaf_nodes=None,\n",
       "                           min_impurity_decrease=0.0, min_impurity_split=None,\n",
       "                           min_samples_leaf=1, min_samples_split=2,\n",
       "                           min_weight_fraction_leaf=0.0, n_estimators=4000,\n",
       "                           n_iter_no_change=None, presort='deprecated',\n",
       "                           random_state=0, subsample=1.0, tol=0.0001,\n",
       "                           validation_fraction=0.1, verbose=0,\n",
       "                           warm_start=False)"
      ]
     },
     "execution_count": 83,
     "metadata": {},
     "output_type": "execute_result"
    }
   ],
   "source": [
    "estimator_seq_avg_30 = GradientBoostingClassifier(learning_rate = 0.1, random_state = 0,\n",
    "                                              **best_params_30)\n",
    "estimator_seq_avg_30.fit(seq_avg_x_30['train_upsampled'], labels['train_upsampled'])"
   ]
  },
  {
   "cell_type": "code",
   "execution_count": 84,
   "metadata": {},
   "outputs": [
    {
     "data": {
      "text/plain": [
       "0.3410138248847926"
      ]
     },
     "execution_count": 84,
     "metadata": {},
     "output_type": "execute_result"
    }
   ],
   "source": [
    "f1_score(labels['valid'], estimator_seq_avg_30.predict(seq_avg_x_30['valid']))"
   ]
  },
  {
   "cell_type": "markdown",
   "metadata": {},
   "source": [
    "# Best GB + sequences model score"
   ]
  },
  {
   "cell_type": "code",
   "execution_count": 85,
   "metadata": {},
   "outputs": [
    {
     "data": {
      "text/plain": [
       "GradientBoostingClassifier(ccp_alpha=0.0, criterion='friedman_mse', init=None,\n",
       "                           learning_rate=0.1, loss='deviance', max_depth=5,\n",
       "                           max_features='sqrt', max_leaf_nodes=None,\n",
       "                           min_impurity_decrease=0.0, min_impurity_split=None,\n",
       "                           min_samples_leaf=1, min_samples_split=2,\n",
       "                           min_weight_fraction_leaf=0.0, n_estimators=4000,\n",
       "                           n_iter_no_change=None, presort='deprecated',\n",
       "                           random_state=0, subsample=1.0, tol=0.0001,\n",
       "                           validation_fraction=0.1, verbose=0,\n",
       "                           warm_start=False)"
      ]
     },
     "execution_count": 85,
     "metadata": {},
     "output_type": "execute_result"
    }
   ],
   "source": [
    "estimator_seq_avg_30.fit(seq_avg_x_30['train_valid_upsampled'], \n",
    "                         labels['train_valid_upsampled'])"
   ]
  },
  {
   "cell_type": "code",
   "execution_count": 88,
   "metadata": {},
   "outputs": [
    {
     "data": {
      "text/plain": [
       "0.359375"
      ]
     },
     "execution_count": 88,
     "metadata": {},
     "output_type": "execute_result"
    }
   ],
   "source": [
    "f1_score(labels['test'],\n",
    "        estimator_seq_avg_30.predict(seq_avg_x_30['test']))"
   ]
  },
  {
   "cell_type": "code",
   "execution_count": 89,
   "metadata": {},
   "outputs": [
    {
     "data": {
      "text/plain": [
       "(0.5609756097560976, 0.26436781609195403)"
      ]
     },
     "execution_count": 89,
     "metadata": {},
     "output_type": "execute_result"
    }
   ],
   "source": [
    "precision_score(labels['test'], estimator_seq_avg_30.predict(seq_avg_x_30['test'])),\\\n",
    "recall_score(labels['test'], estimator_seq_avg_30.predict(seq_avg_x_30['test']))"
   ]
  },
  {
   "cell_type": "markdown",
   "metadata": {},
   "source": [
    "# Combined: best GB & TF"
   ]
  },
  {
   "cell_type": "code",
   "execution_count": 98,
   "metadata": {},
   "outputs": [],
   "source": [
    "est_tf_trainonly = GradientBoostingClassifier(n_estimators = 4000, learning_rate = 0.1,\n",
    "                                       max_depth = 5, max_features = 'log2', \n",
    "                                       random_state = 0)\n",
    "est_tf_trainonly.fit(tf_x['train_upsampled'],\n",
    "                     labels['train_upsampled'])\n",
    "valid_tf_preds = est_tf_trainonly.predict_proba(tf_x['valid'])"
   ]
  },
  {
   "cell_type": "code",
   "execution_count": 99,
   "metadata": {},
   "outputs": [],
   "source": [
    "est_seq_avg30_trainonly = GradientBoostingClassifier(learning_rate = 0.1, random_state = 0,\n",
    "                                              **best_params_30)\n",
    "est_seq_avg30_trainonly.fit(seq_avg_x_30['train_upsampled'],\n",
    "                            labels['train_upsampled'])\n",
    "valid_seq_avg30_preds = est_seq_avg30_trainonly.predict_proba(seq_avg_x_30['valid'])"
   ]
  },
  {
   "cell_type": "code",
   "execution_count": 298,
   "metadata": {},
   "outputs": [
    {
     "data": {
      "text/plain": [
       "GradientBoostingClassifier(ccp_alpha=0.0, criterion='friedman_mse', init=None,\n",
       "                           learning_rate=0.1, loss='deviance', max_depth=2,\n",
       "                           max_features=None, max_leaf_nodes=None,\n",
       "                           min_impurity_decrease=0.0, min_impurity_split=None,\n",
       "                           min_samples_leaf=1, min_samples_split=2,\n",
       "                           min_weight_fraction_leaf=0.0, n_estimators=30,\n",
       "                           n_iter_no_change=None, presort='deprecated',\n",
       "                           random_state=0, subsample=1.0, tol=0.0001,\n",
       "                           validation_fraction=0.1, verbose=0,\n",
       "                           warm_start=False)"
      ]
     },
     "execution_count": 298,
     "metadata": {},
     "output_type": "execute_result"
    }
   ],
   "source": [
    "est_combined_seq_avg = GradientBoostingClassifier(learning_rate=0.1, random_state=0,\n",
    "                                                  n_estimators=30, max_depth=2)\n",
    "est_combined_seq_avg.fit(np.concatenate((valid_tf_preds, valid_seq_avg30_preds), axis=1),\n",
    "                        labels['valid'])"
   ]
  },
  {
   "cell_type": "code",
   "execution_count": 299,
   "metadata": {
    "scrolled": true
   },
   "outputs": [],
   "source": [
    "prob_tf = est_tf.predict_proba(tf_x['test'])\n",
    "prob_seq_avg_30 = estimator_seq_avg_30.predict_proba(seq_avg_x_30['test'])\n",
    "combined_preds = est_combined_seq_avg.predict(np.concatenate((prob_tf, prob_seq_avg_30), axis=1))"
   ]
  },
  {
   "cell_type": "code",
   "execution_count": 300,
   "metadata": {},
   "outputs": [
    {
     "data": {
      "text/plain": [
       "0.8511904761904763"
      ]
     },
     "execution_count": 300,
     "metadata": {},
     "output_type": "execute_result"
    }
   ],
   "source": [
    "f1_score(labels['test'],\n",
    "        combined_preds)"
   ]
  },
  {
   "cell_type": "code",
   "execution_count": 301,
   "metadata": {},
   "outputs": [
    {
     "data": {
      "text/plain": [
       "(0.8827160493827161, 0.8218390804597702)"
      ]
     },
     "execution_count": 301,
     "metadata": {},
     "output_type": "execute_result"
    }
   ],
   "source": [
    "precision_score(labels['test'], combined_preds), recall_score(labels['test'], combined_preds)"
   ]
  },
  {
   "cell_type": "markdown",
   "metadata": {},
   "source": [
    "# Fitting NN"
   ]
  },
  {
   "cell_type": "code",
   "execution_count": 180,
   "metadata": {},
   "outputs": [],
   "source": [
    "class dna_tokenizer:\n",
    "    def __init__(self, sent_size=500):\n",
    "        self.size = sent_size\n",
    "        self.tokenizer = kprocessing.text.Tokenizer(lower=True, split=' ', \n",
    "                                                    oov_token=\"NaN\")\n",
    "        \n",
    "    def fit(self, corpus):\n",
    "        self.tokenizer.fit_on_texts(list(map(lambda x: ' '.join(x),\n",
    "                                             corpus)))\n",
    "        dic_vocabulary = self.tokenizer.word_index\n",
    "        \n",
    "    def transform(self, corpus):\n",
    "        lst_text2seq = self.tokenizer.texts_to_sequences(\n",
    "            list(map(lambda x: ' '.join(x), corpus))\n",
    "        )\n",
    "        res = kprocessing.sequence.pad_sequences(lst_text2seq, \n",
    "                    maxlen=self.size, padding=\"post\", truncating=\"post\")\n",
    "        return res\n",
    "    \n",
    "    def vocabulary(self):\n",
    "        return self.tokenizer.word_index"
   ]
  },
  {
   "cell_type": "code",
   "execution_count": 181,
   "metadata": {},
   "outputs": [],
   "source": [
    "def get_embeddings_matrix(w2v, tokenizer):\n",
    "    embeddings = np.zeros((len(tokenizer.vocabulary())+1, w2v.size))\n",
    "    for word, idx in tokenizer.vocabulary().items():\n",
    "        try:\n",
    "            embeddings[idx] =  w2v.w2v.wv[word]\n",
    "        except:\n",
    "            pass\n",
    "    return embeddings"
   ]
  },
  {
   "cell_type": "code",
   "execution_count": 182,
   "metadata": {},
   "outputs": [],
   "source": [
    "def filter_seq_length(df, l=2500):\n",
    "    return df[(df.promoter_seq.apply(len) <= l) &\n",
    "             (df.enhancer_seq.apply(len) <= l)]"
   ]
  },
  {
   "cell_type": "code",
   "execution_count": 183,
   "metadata": {},
   "outputs": [],
   "source": [
    "train_valid_nn = filter_seq_length(train_valid)"
   ]
  },
  {
   "cell_type": "code",
   "execution_count": 184,
   "metadata": {},
   "outputs": [],
   "source": [
    "promoters_tokenizer = dna_tokenizer()\n",
    "promoters_tokenizer.fit(train_valid_nn.promoter_seq_words.values)\n",
    "enhancers_tokenizer = dna_tokenizer()\n",
    "enhancers_tokenizer.fit(train_valid_nn.enhancer_seq_words.values)"
   ]
  },
  {
   "cell_type": "code",
   "execution_count": 185,
   "metadata": {},
   "outputs": [],
   "source": [
    "promoters_embeddins = get_embeddings_matrix(promoters_dna2vec_30, \n",
    "                                            promoters_tokenizer)\n",
    "enhancers_embeddins = get_embeddings_matrix(enhancers_dna2vec_30, \n",
    "                                            enhancers_tokenizer)"
   ]
  },
  {
   "cell_type": "code",
   "execution_count": 204,
   "metadata": {},
   "outputs": [],
   "source": [
    "seq_nn_x = {}\n",
    "labels_nn = {}\n",
    "\n",
    "for name, df in zip(\n",
    "    ['train', 'valid', 'test', 'train_valid', 'train_upsampled', 'train_valid_upsampled'],\n",
    "    [train, valid, test, train_valid, train_upsampled, train_valid_upsampled] ):\n",
    "    df_filtered = filter_seq_length(df)\n",
    "    promoters = promoters_tokenizer.transform(df_filtered['promoter_seq_words'].values)\n",
    "    enhancers = enhancers_tokenizer.transform(df_filtered['enhancer_seq_words'].values)\n",
    "    seq_nn_x[name] = [promoters, enhancers]\n",
    "    labels_nn[name] = df_filtered['label']"
   ]
  },
  {
   "cell_type": "code",
   "execution_count": 187,
   "metadata": {},
   "outputs": [],
   "source": [
    "def get_model(emb_prom, emb_enh, sent_size=500, activation='relu', n_filters=4):\n",
    "    \n",
    "    # input\n",
    "    proms = layers.Input(shape=(sent_size,), name='promoters')\n",
    "    enhs = layers.Input(shape=(sent_size,), name='enhancers')\n",
    "    \n",
    "    # embedding&convolution for promoters\n",
    "    x_prom = layers.Embedding(input_dim=emb_prom.shape[0],  \n",
    "                              output_dim=emb_prom.shape[1], \n",
    "                              weights=[emb_prom],\n",
    "                              input_length=sent_size, trainable=False)(proms)\n",
    "    x_prom = layers.Conv1D(filters=n_filters, kernel_size=100, activation=activation)(x_prom)\n",
    "    x_prom = layers.Conv1D(filters=n_filters, kernel_size=100, activation=activation)(x_prom)\n",
    "    x_prom = layers.Flatten()(x_prom)\n",
    "    prom_model = models.Model(proms, x_prom)\n",
    "\n",
    "    # embedding&convolution for enhancers\n",
    "    x_enh = layers.Embedding(input_dim=emb_enh.shape[0],  \n",
    "                         output_dim=emb_enh.shape[1], \n",
    "                         weights=[emb_enh],\n",
    "                         input_length=sent_size, trainable=False)(enhs)\n",
    "    x_enh = layers.Conv1D(filters=n_filters, kernel_size=100, activation=activation)(x_enh)\n",
    "    x_enh = layers.Conv1D(filters=n_filters, kernel_size=100, activation=activation)(x_enh)\n",
    "    x_enh = layers.Flatten()(x_enh)\n",
    "    enh_model = models.Model(enhs, x_enh)\n",
    "\n",
    "    # convolution for enhancers and promoters together\n",
    "    combined = layers.Concatenate()([prom_model.output, enh_model.output])\n",
    "    x = layers.Reshape((2, n_filters * (sent_size - 200 + 2), 1))(combined)\n",
    "    x = layers.Conv2D(filters=n_filters, kernel_size=(2, 100), activation=activation)(x)\n",
    "    x = layers.Conv2D(filters=n_filters, kernel_size=(1, 100), activation=activation)(x)\n",
    "\n",
    "    # dense layers to get the final result\n",
    "    x = layers.Flatten()(x)\n",
    "    x = layers.Dense(64, activation=activation)(x)\n",
    "    y_out = layers.Dense(1, activation='sigmoid')(x)\n",
    "\n",
    "    model = models.Model([prom_model.input, enh_model.input], y_out)\n",
    "    model.compile(loss=losses.BinaryCrossentropy(),\n",
    "                  optimizer='adam', metrics=['accuracy'])\n",
    "\n",
    "    return model"
   ]
  },
  {
   "cell_type": "markdown",
   "metadata": {},
   "source": [
    "## ReLU activation, 4 filters"
   ]
  },
  {
   "cell_type": "code",
   "execution_count": 212,
   "metadata": {},
   "outputs": [],
   "source": [
    "m1 = get_model(promoters_embeddins, enhancers_embeddins)"
   ]
  },
  {
   "cell_type": "code",
   "execution_count": 189,
   "metadata": {
    "scrolled": true
   },
   "outputs": [
    {
     "name": "stdout",
     "output_type": "stream",
     "text": [
      "Model: \"model_2\"\n",
      "__________________________________________________________________________________________________\n",
      "Layer (type)                    Output Shape         Param #     Connected to                     \n",
      "==================================================================================================\n",
      "promoters (InputLayer)          [(None, 500)]        0                                            \n",
      "__________________________________________________________________________________________________\n",
      "enhancers (InputLayer)          [(None, 500)]        0                                            \n",
      "__________________________________________________________________________________________________\n",
      "embedding (Embedding)           (None, 500, 30)      40860       promoters[0][0]                  \n",
      "__________________________________________________________________________________________________\n",
      "embedding_1 (Embedding)         (None, 500, 30)      40980       enhancers[0][0]                  \n",
      "__________________________________________________________________________________________________\n",
      "conv1d (Conv1D)                 (None, 401, 4)       12004       embedding[0][0]                  \n",
      "__________________________________________________________________________________________________\n",
      "conv1d_2 (Conv1D)               (None, 401, 4)       12004       embedding_1[0][0]                \n",
      "__________________________________________________________________________________________________\n",
      "conv1d_1 (Conv1D)               (None, 302, 4)       1604        conv1d[0][0]                     \n",
      "__________________________________________________________________________________________________\n",
      "conv1d_3 (Conv1D)               (None, 302, 4)       1604        conv1d_2[0][0]                   \n",
      "__________________________________________________________________________________________________\n",
      "flatten (Flatten)               (None, 1208)         0           conv1d_1[0][0]                   \n",
      "__________________________________________________________________________________________________\n",
      "flatten_1 (Flatten)             (None, 1208)         0           conv1d_3[0][0]                   \n",
      "__________________________________________________________________________________________________\n",
      "concatenate (Concatenate)       (None, 2416)         0           flatten[0][0]                    \n",
      "                                                                 flatten_1[0][0]                  \n",
      "__________________________________________________________________________________________________\n",
      "reshape (Reshape)               (None, 2, 1208, 1)   0           concatenate[0][0]                \n",
      "__________________________________________________________________________________________________\n",
      "conv2d (Conv2D)                 (None, 1, 1109, 4)   804         reshape[0][0]                    \n",
      "__________________________________________________________________________________________________\n",
      "conv2d_1 (Conv2D)               (None, 1, 1010, 4)   1604        conv2d[0][0]                     \n",
      "__________________________________________________________________________________________________\n",
      "flatten_2 (Flatten)             (None, 4040)         0           conv2d_1[0][0]                   \n",
      "__________________________________________________________________________________________________\n",
      "dense (Dense)                   (None, 64)           258624      flatten_2[0][0]                  \n",
      "__________________________________________________________________________________________________\n",
      "dense_1 (Dense)                 (None, 1)            65          dense[0][0]                      \n",
      "==================================================================================================\n",
      "Total params: 370,153\n",
      "Trainable params: 288,313\n",
      "Non-trainable params: 81,840\n",
      "__________________________________________________________________________________________________\n"
     ]
    }
   ],
   "source": [
    "m1.summary()"
   ]
  },
  {
   "cell_type": "code",
   "execution_count": 213,
   "metadata": {
    "scrolled": true
   },
   "outputs": [
    {
     "name": "stdout",
     "output_type": "stream",
     "text": [
      "Train on 24914 samples, validate on 6253 samples\n",
      "24914/24914 [==============================] - 127s 5ms/sample - loss: 0.1933 - acc: 0.9556 - val_loss: 0.1838 - val_acc: 0.9552\n",
      "Train on 24914 samples, validate on 6253 samples\n",
      "24914/24914 [==============================] - 125s 5ms/sample - loss: 0.1805 - acc: 0.9556 - val_loss: 0.1717 - val_acc: 0.9551\n",
      "Train on 24914 samples, validate on 6253 samples\n",
      "24914/24914 [==============================] - 126s 5ms/sample - loss: 0.1655 - acc: 0.9565 - val_loss: 0.1634 - val_acc: 0.9554\n",
      "Train on 24914 samples, validate on 6253 samples\n",
      "24914/24914 [==============================] - 134s 5ms/sample - loss: 0.1545 - acc: 0.9576 - val_loss: 0.1631 - val_acc: 0.9557\n",
      "Train on 24914 samples, validate on 6253 samples\n",
      "24914/24914 [==============================] - 131s 5ms/sample - loss: 0.1528 - acc: 0.9583 - val_loss: 0.1624 - val_acc: 0.9555\n"
     ]
    }
   ],
   "source": [
    "f1_scores_1 = []\n",
    "acc = []\n",
    "for i in range(5):\n",
    "    history_1 = m1.fit(\n",
    "                    x=seq_nn_x['train'],\n",
    "                    y=labels_nn['train'],\n",
    "                    validation_data=(seq_nn_x['valid'], labels_nn['valid']),\n",
    "                    epochs=1, batch_size=8)\n",
    "    acc.append((history_1.history['acc'], history_1.history['val_acc']))\n",
    "    train_pred = m1.predict(seq_nn_x['train'])\n",
    "    valid_pred = m1.predict(seq_nn_x['valid'])\n",
    "    f1_scores_1.append((\n",
    "        f1_score(labels_nn['train'], train_pred > 0.5 ),\n",
    "        f1_score(labels_nn['valid'], valid_pred > 0.5)))"
   ]
  },
  {
   "cell_type": "code",
   "execution_count": 235,
   "metadata": {},
   "outputs": [
    {
     "data": {
      "image/png": "[encoded data removed]",
      "text/plain": [
       "<Figure size 432x288 with 1 Axes>"
      ]
     },
     "metadata": {
      "needs_background": "light"
     },
     "output_type": "display_data"
    }
   ],
   "source": [
    "plt.plot(range(5), list(zip(*f1_scores_1))[0], label='f1_train')\n",
    "plt.plot(range(5), list(zip(*f1_scores_1))[1], label='f1_valid')\n",
    "plt.plot(range(5), list(zip(*acc))[0], label='acc_train')\n",
    "plt.plot(range(5), list(zip(*acc))[1], label='acc_valid')\n",
    "plt.xlabel('epoch', size=14)\n",
    "plt.xticks(range(5), range(1, 6))\n",
    "plt.title('4 filters, relu activation', size=14)\n",
    "plt.legend()\n",
    "plt.show()"
   ]
  },
  {
   "cell_type": "markdown",
   "metadata": {},
   "source": [
    "## ReLU activation, 4 filters, upsampled"
   ]
  },
  {
   "cell_type": "code",
   "execution_count": 218,
   "metadata": {},
   "outputs": [],
   "source": [
    "m2 = get_model(promoters_embeddins, enhancers_embeddins)"
   ]
  },
  {
   "cell_type": "code",
   "execution_count": 219,
   "metadata": {},
   "outputs": [
    {
     "name": "stdout",
     "output_type": "stream",
     "text": [
      "Train on 31535 samples, validate on 6253 samples\n",
      "31535/31535 [==============================] - 169s 5ms/sample - loss: 0.3103 - acc: 0.8781 - val_loss: 0.1536 - val_acc: 0.9434\n",
      "Train on 31535 samples, validate on 6253 samples\n",
      "31535/31535 [==============================] - 168s 5ms/sample - loss: 0.1634 - acc: 0.9441 - val_loss: 0.1472 - val_acc: 0.9442\n",
      "Train on 31535 samples, validate on 6253 samples\n",
      "31535/31535 [==============================] - 170s 5ms/sample - loss: 0.1386 - acc: 0.9513 - val_loss: 0.1849 - val_acc: 0.9455\n",
      "Train on 31535 samples, validate on 6253 samples\n",
      "31535/31535 [==============================] - 169s 5ms/sample - loss: 0.1259 - acc: 0.9554 - val_loss: 0.1803 - val_acc: 0.9419\n",
      "Train on 31535 samples, validate on 6253 samples\n",
      "31535/31535 [==============================] - 167s 5ms/sample - loss: 0.1130 - acc: 0.9603 - val_loss: 0.2189 - val_acc: 0.9411\n"
     ]
    }
   ],
   "source": [
    "f1_scores_2 = []\n",
    "acc_2 = []\n",
    "for i in range(5):\n",
    "    history = m2.fit(\n",
    "                    x=seq_nn_x['train_upsampled'],\n",
    "                    y=labels_nn['train_upsampled'],\n",
    "                    validation_data=(seq_nn_x['valid'], labels_nn['valid']),\n",
    "                    epochs=1, batch_size=8)\n",
    "    acc_2.append((history.history['acc'], history.history['val_acc']))\n",
    "    train_pred = m2.predict(seq_nn_x['train_upsampled'])\n",
    "    valid_pred = m2.predict(seq_nn_x['valid'])\n",
    "    f1_scores_2.append((\n",
    "        f1_score(labels_nn['train_upsampled'], train_pred > 0.5 ),\n",
    "        f1_score(labels_nn['valid'], valid_pred > 0.5)))"
   ]
  },
  {
   "cell_type": "code",
   "execution_count": 234,
   "metadata": {},
   "outputs": [
    {
     "data": {
      "image/png": "[encoded data removed]",
      "text/plain": [
       "<Figure size 432x288 with 1 Axes>"
      ]
     },
     "metadata": {
      "needs_background": "light"
     },
     "output_type": "display_data"
    }
   ],
   "source": [
    "plt.plot(range(5), list(zip(*f1_scores_2))[0], label='f1_train')\n",
    "plt.plot(range(5), list(zip(*f1_scores_2))[1], label='f1_valid')\n",
    "plt.plot(range(5), list(zip(*acc_2))[0], label='acc_train')\n",
    "plt.plot(range(5), list(zip(*acc_2))[1], label='acc_valid')\n",
    "plt.xlabel('epoch', size=14)\n",
    "plt.xticks(range(5), range(1, 6))\n",
    "plt.title('4 filters, relu activation', size=14)\n",
    "plt.legend()\n",
    "plt.show()"
   ]
  },
  {
   "cell_type": "markdown",
   "metadata": {},
   "source": [
    "## ReLU activation, 6 filters, upsampled"
   ]
  },
  {
   "cell_type": "code",
   "execution_count": 222,
   "metadata": {},
   "outputs": [],
   "source": [
    "m3 = get_model(promoters_embeddins, enhancers_embeddins, n_filters=6)"
   ]
  },
  {
   "cell_type": "code",
   "execution_count": 223,
   "metadata": {},
   "outputs": [
    {
     "name": "stdout",
     "output_type": "stream",
     "text": [
      "Train on 31535 samples, validate on 6253 samples\n",
      "31535/31535 [==============================] - 232s 7ms/sample - loss: 0.3360 - acc: 0.8764 - val_loss: 0.1472 - val_acc: 0.9467\n",
      "Train on 31535 samples, validate on 6253 samples\n",
      "31535/31535 [==============================] - 241s 8ms/sample - loss: 0.1790 - acc: 0.9423 - val_loss: 0.1421 - val_acc: 0.9415\n",
      "Train on 31535 samples, validate on 6253 samples\n",
      "31535/31535 [==============================] - 246s 8ms/sample - loss: 0.1426 - acc: 0.9496 - val_loss: 0.1478 - val_acc: 0.9391\n",
      "Train on 31535 samples, validate on 6253 samples\n",
      "31535/31535 [==============================] - 234s 7ms/sample - loss: 0.1355 - acc: 0.9518 - val_loss: 0.1443 - val_acc: 0.9450\n",
      "Train on 31535 samples, validate on 6253 samples\n",
      "31535/31535 [==============================] - 242s 8ms/sample - loss: 0.1273 - acc: 0.9546 - val_loss: 0.1632 - val_acc: 0.9453\n"
     ]
    }
   ],
   "source": [
    "f1_scores_3 = []\n",
    "acc_3 = []\n",
    "for i in range(5):\n",
    "    history = m3.fit(\n",
    "                    x=seq_nn_x['train_upsampled'],\n",
    "                    y=labels_nn['train_upsampled'],\n",
    "                    validation_data=(seq_nn_x['valid'], labels_nn['valid']),\n",
    "                    epochs=1, batch_size=8)\n",
    "    acc_3.append((history.history['acc'], history.history['val_acc']))\n",
    "    train_pred = m3.predict(seq_nn_x['train_upsampled'])\n",
    "    valid_pred = m3.predict(seq_nn_x['valid'])\n",
    "    f1_scores_3.append((\n",
    "        f1_score(labels_nn['train_upsampled'], train_pred > 0.5 ),\n",
    "        f1_score(labels_nn['valid'], valid_pred > 0.5)))"
   ]
  },
  {
   "cell_type": "code",
   "execution_count": 233,
   "metadata": {},
   "outputs": [
    {
     "data": {
      "image/png": "[encoded data removed]",
      "text/plain": [
       "<Figure size 432x288 with 1 Axes>"
      ]
     },
     "metadata": {
      "needs_background": "light"
     },
     "output_type": "display_data"
    }
   ],
   "source": [
    "plt.plot(range(5), list(zip(*f1_scores_3))[0], label='f1_train')\n",
    "plt.plot(range(5), list(zip(*f1_scores_3))[1], label='f1_valid')\n",
    "plt.plot(range(5), list(zip(*acc_3))[0], label='acc_train')\n",
    "plt.plot(range(5), list(zip(*acc_3))[1], label='acc_valid')\n",
    "plt.xlabel('epoch', size=14)\n",
    "plt.xticks(range(5), range(1, 6))\n",
    "plt.title('6 filters, relu activation', size=14)\n",
    "plt.legend()\n",
    "plt.show()"
   ]
  },
  {
   "cell_type": "markdown",
   "metadata": {},
   "source": [
    "## Tanh activation, 6 filters, upsampled"
   ]
  },
  {
   "cell_type": "code",
   "execution_count": 228,
   "metadata": {},
   "outputs": [],
   "source": [
    "m4 = get_model(promoters_embeddins, enhancers_embeddins, n_filters=6, activation='tanh')"
   ]
  },
  {
   "cell_type": "code",
   "execution_count": 229,
   "metadata": {},
   "outputs": [
    {
     "name": "stdout",
     "output_type": "stream",
     "text": [
      "Train on 31535 samples, validate on 6253 samples\n",
      "31535/31535 [==============================] - 224s 7ms/sample - loss: 0.3083 - acc: 0.8806 - val_loss: 0.1649 - val_acc: 0.9392\n",
      "Train on 31535 samples, validate on 6253 samples\n",
      "31535/31535 [==============================] - 236s 7ms/sample - loss: 0.1730 - acc: 0.9353 - val_loss: 0.1599 - val_acc: 0.9424\n",
      "Train on 31535 samples, validate on 6253 samples\n",
      "31535/31535 [==============================] - 244s 8ms/sample - loss: 0.1442 - acc: 0.9464 - val_loss: 0.1553 - val_acc: 0.9451\n",
      "Train on 31535 samples, validate on 6253 samples\n",
      "31535/31535 [==============================] - 242s 8ms/sample - loss: 0.1365 - acc: 0.9480 - val_loss: 0.1555 - val_acc: 0.9458\n",
      "Train on 31535 samples, validate on 6253 samples\n",
      "31535/31535 [==============================] - 235s 7ms/sample - loss: 0.1208 - acc: 0.9556 - val_loss: 0.1796 - val_acc: 0.9367\n"
     ]
    }
   ],
   "source": [
    "f1_scores_4 = []\n",
    "acc_4 = []\n",
    "for i in range(5):\n",
    "    history = m4.fit(\n",
    "                    x=seq_nn_x['train_upsampled'],\n",
    "                    y=labels_nn['train_upsampled'],\n",
    "                    validation_data=(seq_nn_x['valid'], labels_nn['valid']),\n",
    "                    epochs=1, batch_size=8)\n",
    "    acc_4.append((history.history['acc'], history.history['val_acc']))\n",
    "    train_pred = m4.predict(seq_nn_x['train_upsampled'])\n",
    "    valid_pred = m4.predict(seq_nn_x['valid'])\n",
    "    f1_scores_4.append((\n",
    "        f1_score(labels_nn['train_upsampled'], train_pred > 0.5 ),\n",
    "        f1_score(labels_nn['valid'], valid_pred > 0.5)))"
   ]
  },
  {
   "cell_type": "code",
   "execution_count": 232,
   "metadata": {},
   "outputs": [
    {
     "data": {
      "image/png": "[encoded data removed]",
      "text/plain": [
       "<Figure size 432x288 with 1 Axes>"
      ]
     },
     "metadata": {
      "needs_background": "light"
     },
     "output_type": "display_data"
    }
   ],
   "source": [
    "plt.plot(range(5), list(zip(*f1_scores_4))[0], label='f1_train')\n",
    "plt.plot(range(5), list(zip(*f1_scores_4))[1], label='f1_valid')\n",
    "plt.plot(range(5), list(zip(*acc_4))[0], label='acc_train')\n",
    "plt.plot(range(5), list(zip(*acc_4))[1], label='acc_valid')\n",
    "plt.xlabel('epoch', size=14)\n",
    "plt.xticks(range(5), range(1, 6))\n",
    "plt.title('6 filters, tanh activation', size=14)\n",
    "plt.legend()\n",
    "plt.show()"
   ]
  },
  {
   "cell_type": "markdown",
   "metadata": {},
   "source": [
    "# Best NN scores"
   ]
  },
  {
   "cell_type": "code",
   "execution_count": 236,
   "metadata": {},
   "outputs": [],
   "source": [
    "est_seq = get_model(promoters_embeddins, enhancers_embeddins, n_filters=6)"
   ]
  },
  {
   "cell_type": "code",
   "execution_count": 237,
   "metadata": {},
   "outputs": [
    {
     "name": "stdout",
     "output_type": "stream",
     "text": [
      "Epoch 1/5\n",
      "39457/39457 [==============================] - 278s 7ms/sample - loss: 0.3452 - acc: 0.8608\n",
      "Epoch 2/5\n",
      "39457/39457 [==============================] - 292s 7ms/sample - loss: 0.1799 - acc: 0.9368\n",
      "Epoch 3/5\n",
      "39457/39457 [==============================] - 269s 7ms/sample - loss: 0.1595 - acc: 0.9440\n",
      "Epoch 4/5\n",
      "39457/39457 [==============================] - 290s 7ms/sample - loss: 0.1518 - acc: 0.9452\n",
      "Epoch 5/5\n",
      "39457/39457 [==============================] - 326s 8ms/sample - loss: 0.1486 - acc: 0.9475\n"
     ]
    },
    {
     "data": {
      "text/plain": [
       "<tensorflow.python.keras.callbacks.History at 0x7feabe2b9b38>"
      ]
     },
     "execution_count": 237,
     "metadata": {},
     "output_type": "execute_result"
    }
   ],
   "source": [
    "est_seq.fit(x=seq_nn_x['train_valid_upsampled'],\n",
    "            y=labels_nn['train_valid_upsampled'],\n",
    "            epochs=5, batch_size=8)"
   ]
  },
  {
   "cell_type": "code",
   "execution_count": 239,
   "metadata": {},
   "outputs": [
    {
     "data": {
      "text/plain": [
       "0.5613305613305614"
      ]
     },
     "execution_count": 239,
     "metadata": {},
     "output_type": "execute_result"
    }
   ],
   "source": [
    "f1_score(labels_nn['test'],\n",
    "         est_seq.predict(seq_nn_x['test']) > 0.5)"
   ]
  },
  {
   "cell_type": "code",
   "execution_count": 240,
   "metadata": {},
   "outputs": [
    {
     "data": {
      "text/plain": [
       "(0.41411042944785276, 0.8709677419354839)"
      ]
     },
     "execution_count": 240,
     "metadata": {},
     "output_type": "execute_result"
    }
   ],
   "source": [
    "precision_score(labels_nn['test'], est_seq.predict(seq_nn_x['test']) > 0.5),\\\n",
    "recall_score(labels_nn['test'], est_seq.predict(seq_nn_x['test']) > 0.5)"
   ]
  },
  {
   "cell_type": "markdown",
   "metadata": {},
   "source": [
    "# Combined NN&TF model"
   ]
  },
  {
   "cell_type": "code",
   "execution_count": 243,
   "metadata": {},
   "outputs": [],
   "source": [
    "tf_valid_prob = est_tf_trainonly.predict_proba(tf_x['valid'].loc[labels_nn['valid'].index])"
   ]
  },
  {
   "cell_type": "code",
   "execution_count": 244,
   "metadata": {},
   "outputs": [],
   "source": [
    "nn_seq_valid_prob = m3.predict(seq_nn_x['valid'])"
   ]
  },
  {
   "cell_type": "code",
   "execution_count": 409,
   "metadata": {},
   "outputs": [
    {
     "data": {
      "text/plain": [
       "GradientBoostingClassifier(ccp_alpha=0.0, criterion='friedman_mse', init=None,\n",
       "                           learning_rate=0.05, loss='deviance', max_depth=2,\n",
       "                           max_features=None, max_leaf_nodes=None,\n",
       "                           min_impurity_decrease=0.0, min_impurity_split=None,\n",
       "                           min_samples_leaf=1, min_samples_split=2,\n",
       "                           min_weight_fraction_leaf=0.0, n_estimators=20,\n",
       "                           n_iter_no_change=None, presort='deprecated',\n",
       "                           random_state=0, subsample=1.0, tol=0.0001,\n",
       "                           validation_fraction=0.1, verbose=0,\n",
       "                           warm_start=False)"
      ]
     },
     "execution_count": 409,
     "metadata": {},
     "output_type": "execute_result"
    }
   ],
   "source": [
    "est_combined_seq_nn = GradientBoostingClassifier(learning_rate=0.05, random_state=0,\n",
    "                                                  n_estimators=20, max_depth=2)\n",
    "est_combined_seq_nn.fit(np.concatenate((tf_valid_prob, nn_seq_valid_prob), axis=1),\n",
    "                        labels_nn['valid'])"
   ]
  },
  {
   "cell_type": "code",
   "execution_count": 410,
   "metadata": {},
   "outputs": [],
   "source": [
    "test_prob_tf = est_tf.predict_proba(tf_x['test'].loc[labels_nn['test'].index])\n",
    "test_seq_nn =  est_seq.predict(seq_nn_x['test'])\n",
    "combined_preds_nn = est_combined_seq_nn.predict(\n",
    "    np.concatenate((test_prob_tf, test_seq_nn), axis=1)\n",
    ")"
   ]
  },
  {
   "cell_type": "code",
   "execution_count": 411,
   "metadata": {},
   "outputs": [
    {
     "data": {
      "text/plain": [
       "0.8321167883211679"
      ]
     },
     "execution_count": 411,
     "metadata": {},
     "output_type": "execute_result"
    }
   ],
   "source": [
    "f1_score(labels_nn['test'], combined_preds_nn)"
   ]
  },
  {
   "cell_type": "code",
   "execution_count": 412,
   "metadata": {},
   "outputs": [
    {
     "data": {
      "text/plain": [
       "(0.957983193277311, 0.7354838709677419)"
      ]
     },
     "execution_count": 412,
     "metadata": {},
     "output_type": "execute_result"
    }
   ],
   "source": [
    "precision_score(labels_nn['test'], combined_preds_nn),\\\n",
    "recall_score(labels_nn['test'], combined_preds_nn)"
   ]
  },
  {
   "cell_type": "code",
   "execution_count": 413,
   "metadata": {},
   "outputs": [
    {
     "data": {
      "text/plain": [
       "(0.8445945945945944, 0.5613305613305614)"
      ]
     },
     "execution_count": 413,
     "metadata": {},
     "output_type": "execute_result"
    }
   ],
   "source": [
    "f1_score(labels_nn['test'], test_prob_tf[:, 1] > 0.5), f1_score(labels_nn['test'], test_seq_nn > 0.5)"
   ]
  },
  {
   "cell_type": "code",
   "execution_count": 414,
   "metadata": {},
   "outputs": [
    {
     "data": {
      "text/plain": [
       "(0.8865248226950354, 0.41411042944785276)"
      ]
     },
     "execution_count": 414,
     "metadata": {},
     "output_type": "execute_result"
    }
   ],
   "source": [
    "precision_score(labels_nn['test'], test_prob_tf[:, 1] > 0.5),\\\n",
    "precision_score(labels_nn['test'], test_seq_nn > 0.5)"
   ]
  },
  {
   "cell_type": "code",
   "execution_count": 415,
   "metadata": {
    "scrolled": false
   },
   "outputs": [
    {
     "data": {
      "text/plain": [
       "(0.8064516129032258, 0.8709677419354839)"
      ]
     },
     "execution_count": 415,
     "metadata": {},
     "output_type": "execute_result"
    }
   ],
   "source": [
    "recall_score(labels_nn['test'], test_prob_tf[:, 1] > 0.5),\\\n",
    "recall_score(labels_nn['test'], test_seq_nn > 0.5)"
   ]
  }
 ],
 "metadata": {
  "kernelspec": {
   "display_name": "Python 3",
   "language": "python",
   "name": "python3"
  },
  "language_info": {
   "codemirror_mode": {
    "name": "ipython",
    "version": 3
   },
   "file_extension": ".py",
   "mimetype": "text/x-python",
   "name": "python",
   "nbconvert_exporter": "python",
   "pygments_lexer": "ipython3",
   "version": "3.6.9"
  }
 },
 "nbformat": 4,
 "nbformat_minor": 4
}
